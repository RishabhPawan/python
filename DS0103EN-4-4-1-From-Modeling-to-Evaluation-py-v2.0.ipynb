{
 "cells": [
  {
   "cell_type": "markdown",
   "metadata": {
    "button": false,
    "new_sheet": false,
    "run_control": {
     "read_only": false
    }
   },
   "source": [
    "<a href=\"https://cognitiveclass.ai\"><img src = \"https://ibm.box.com/shared/static/9gegpsmnsoo25ikkbl4qzlvlyjbgxs5x.png\" width = 400> </a>\n",
    "\n",
    "<h1 align=center><font size = 5>From Modeling to Evaluation</font></h1>"
   ]
  },
  {
   "cell_type": "markdown",
   "metadata": {
    "button": false,
    "new_sheet": false,
    "run_control": {
     "read_only": false
    }
   },
   "source": [
    "## Introduction\n",
    "\n",
    "In this lab, we will continue learning about the data science methodology, and focus on the **Modeling** and **Evaluation** stages.\n",
    "\n",
    "------------"
   ]
  },
  {
   "cell_type": "markdown",
   "metadata": {
    "button": false,
    "new_sheet": false,
    "run_control": {
     "read_only": false
    }
   },
   "source": [
    "## Table of Contents\n",
    "\n",
    "\n",
    "<div class=\"alert alert-block alert-info\" style=\"margin-top: 20px\">\n",
    "\n",
    "1. [Recap](#0)<br>\n",
    "2. [Data Modeling](#2)<br>\n",
    "3. [Model Evaluation](#4)<br>\n",
    "</div>\n",
    "<hr>"
   ]
  },
  {
   "cell_type": "markdown",
   "metadata": {
    "button": false,
    "new_sheet": false,
    "run_control": {
     "read_only": false
    }
   },
   "source": [
    "# Recap <a id=\"0\"></a>\n",
    "\n",
    "In Lab **From Understanding to Preparation**, we explored the data and prepared it for modeling."
   ]
  },
  {
   "cell_type": "markdown",
   "metadata": {
    "button": false,
    "new_sheet": false,
    "run_control": {
     "read_only": false
    }
   },
   "source": [
    "The data was compiled by a researcher named Yong-Yeol Ahn, who scraped tens of thousands of food recipes (cuisines and ingredients) from three different websites, namely:"
   ]
  },
  {
   "cell_type": "markdown",
   "metadata": {
    "button": false,
    "new_sheet": false,
    "run_control": {
     "read_only": false
    }
   },
   "source": [
    "<img src=\"https://s3-api.us-geo.objectstorage.softlayer.net/cf-courses-data/CognitiveClass/DS0103EN/labs/images/lab4_fig1_allrecipes.png\" width=500>\n",
    "\n",
    "www.allrecipes.com\n",
    "\n",
    "<img src=\"https://s3-api.us-geo.objectstorage.softlayer.net/cf-courses-data/CognitiveClass/DS0103EN/labs/images/lab4_fig2_epicurious.png\" width=500>\n",
    "\n",
    "www.epicurious.com\n",
    "\n",
    "<img src=\"https://s3-api.us-geo.objectstorage.softlayer.net/cf-courses-data/CognitiveClass/DS0103EN/labs/images/lab4_fig3_menupan.png\" width=500>\n",
    "\n",
    "www.menupan.com"
   ]
  },
  {
   "cell_type": "markdown",
   "metadata": {
    "button": false,
    "new_sheet": false,
    "run_control": {
     "read_only": false
    }
   },
   "source": [
    "For more information on Yong-Yeol Ahn and his research, you can read his paper on [Flavor Network and the Principles of Food Pairing](http://yongyeol.com/papers/ahn-flavornet-2011.pdf)."
   ]
  },
  {
   "cell_type": "markdown",
   "metadata": {
    "button": false,
    "new_sheet": false,
    "run_control": {
     "read_only": false
    }
   },
   "source": [
    "<strong> Important note:</strong> Please note that you are not expected to know how to program in Python. This lab is meant to illustrate the stages of modeling and evaluation of the data science methodology, so it is totally fine if you do not understand the individual lines of code. We have a full course on programming in Python, <a href=\"http://cocl.us/PY0101EN_DS0103EN_LAB4_PYTHON_Coursera\"><strong>Python for Data Science</strong></a>, which is also offered on Coursera. So make sure to complete the Python course if you are interested in learning how to program in Python."
   ]
  },
  {
   "cell_type": "markdown",
   "metadata": {
    "button": false,
    "new_sheet": false,
    "run_control": {
     "read_only": false
    }
   },
   "source": [
    "### Using this notebook:\n",
    "\n",
    "To run any of the following cells of code, you can type **Shift + Enter** to excute the code in a cell."
   ]
  },
  {
   "cell_type": "markdown",
   "metadata": {
    "button": false,
    "new_sheet": false,
    "run_control": {
     "read_only": false
    }
   },
   "source": [
    "Download the library and dependencies that we will need to run this lab."
   ]
  },
  {
   "cell_type": "code",
   "execution_count": null,
   "metadata": {
    "button": false,
    "new_sheet": false,
    "run_control": {
     "read_only": false
    }
   },
   "outputs": [],
   "source": [
    "import pandas as pd # import library to read data into dataframe\n",
    "pd.set_option(\"display.max_columns\", None)\n",
    "import numpy as np # import numpy library\n",
    "import re # import library for regular expression\n",
    "import random # library for random number generation"
   ]
  },
  {
   "cell_type": "markdown",
   "metadata": {
    "button": false,
    "new_sheet": false,
    "run_control": {
     "read_only": false
    }
   },
   "source": [
    "We already placed the data on an IBM server for your convenience, so let's download it from server and read it into a dataframe called **recipes**."
   ]
  },
  {
   "cell_type": "code",
   "execution_count": 2,
   "metadata": {
    "button": false,
    "new_sheet": false,
    "run_control": {
     "read_only": false
    }
   },
   "outputs": [
    {
     "name": "stdout",
     "output_type": "stream",
     "text": [
      "Data read into dataframe!\n"
     ]
    }
   ],
   "source": [
    "recipes = pd.read_csv(\"recipes.csv\")\n",
    "\n",
    "print(\"Data read into dataframe!\") # takes about 30 seconds"
   ]
  },
  {
   "cell_type": "markdown",
   "metadata": {
    "button": false,
    "new_sheet": false,
    "run_control": {
     "read_only": false
    }
   },
   "source": [
    "We will repeat the preprocessing steps that we implemented in Lab **From Understanding to Preparation** in order to prepare the data for modeling. For more details on preparing the data, please refer to Lab **From Understanding to Preparation**."
   ]
  },
  {
   "cell_type": "code",
   "execution_count": 3,
   "metadata": {
    "button": false,
    "new_sheet": false,
    "run_control": {
     "read_only": false
    }
   },
   "outputs": [
    {
     "name": "stdout",
     "output_type": "stream",
     "text": [
      "DONE!!!!!!!!!!!!!\n"
     ]
    }
   ],
   "source": [
    "# fix name of the column displaying the cuisine\n",
    "column_names = recipes.columns.values\n",
    "column_names[0] = \"cuisine\"\n",
    "recipes.columns = column_names\n",
    "\n",
    "# convert cuisine names to lower case\n",
    "recipes[\"cuisine\"] = recipes[\"cuisine\"].str.lower()\n",
    "\n",
    "# make the cuisine names consistent\n",
    "recipes.loc[recipes[\"cuisine\"] == \"austria\", \"cuisine\"] = \"austrian\"\n",
    "recipes.loc[recipes[\"cuisine\"] == \"belgium\", \"cuisine\"] = \"belgian\"\n",
    "recipes.loc[recipes[\"cuisine\"] == \"china\", \"cuisine\"] = \"chinese\"\n",
    "recipes.loc[recipes[\"cuisine\"] == \"canada\", \"cuisine\"] = \"canadian\"\n",
    "recipes.loc[recipes[\"cuisine\"] == \"netherlands\", \"cuisine\"] = \"dutch\"\n",
    "recipes.loc[recipes[\"cuisine\"] == \"france\", \"cuisine\"] = \"french\"\n",
    "recipes.loc[recipes[\"cuisine\"] == \"germany\", \"cuisine\"] = \"german\"\n",
    "recipes.loc[recipes[\"cuisine\"] == \"india\", \"cuisine\"] = \"indian\"\n",
    "recipes.loc[recipes[\"cuisine\"] == \"indonesia\", \"cuisine\"] = \"indonesian\"\n",
    "recipes.loc[recipes[\"cuisine\"] == \"iran\", \"cuisine\"] = \"iranian\"\n",
    "recipes.loc[recipes[\"cuisine\"] == \"italy\", \"cuisine\"] = \"italian\"\n",
    "recipes.loc[recipes[\"cuisine\"] == \"japan\", \"cuisine\"] = \"japanese\"\n",
    "recipes.loc[recipes[\"cuisine\"] == \"israel\", \"cuisine\"] = \"jewish\"\n",
    "recipes.loc[recipes[\"cuisine\"] == \"korea\", \"cuisine\"] = \"korean\"\n",
    "recipes.loc[recipes[\"cuisine\"] == \"lebanon\", \"cuisine\"] = \"lebanese\"\n",
    "recipes.loc[recipes[\"cuisine\"] == \"malaysia\", \"cuisine\"] = \"malaysian\"\n",
    "recipes.loc[recipes[\"cuisine\"] == \"mexico\", \"cuisine\"] = \"mexican\"\n",
    "recipes.loc[recipes[\"cuisine\"] == \"pakistan\", \"cuisine\"] = \"pakistani\"\n",
    "recipes.loc[recipes[\"cuisine\"] == \"philippines\", \"cuisine\"] = \"philippine\"\n",
    "recipes.loc[recipes[\"cuisine\"] == \"scandinavia\", \"cuisine\"] = \"scandinavian\"\n",
    "recipes.loc[recipes[\"cuisine\"] == \"spain\", \"cuisine\"] = \"spanish_portuguese\"\n",
    "recipes.loc[recipes[\"cuisine\"] == \"portugal\", \"cuisine\"] = \"spanish_portuguese\"\n",
    "recipes.loc[recipes[\"cuisine\"] == \"switzerland\", \"cuisine\"] = \"swiss\"\n",
    "recipes.loc[recipes[\"cuisine\"] == \"thailand\", \"cuisine\"] = \"thai\"\n",
    "recipes.loc[recipes[\"cuisine\"] == \"turkey\", \"cuisine\"] = \"turkish\"\n",
    "recipes.loc[recipes[\"cuisine\"] == \"vietnam\", \"cuisine\"] = \"vietnamese\"\n",
    "recipes.loc[recipes[\"cuisine\"] == \"uk-and-ireland\", \"cuisine\"] = \"uk-and-irish\"\n",
    "recipes.loc[recipes[\"cuisine\"] == \"irish\", \"cuisine\"] = \"uk-and-irish\"\n",
    "\n",
    "\n",
    "# remove data for cuisines with < 50 recipes:\n",
    "recipes_counts = recipes[\"cuisine\"].value_counts()\n",
    "cuisines_indices = recipes_counts > 50\n",
    "\n",
    "cuisines_to_keep = list(np.array(recipes_counts.index.values)[np.array(cuisines_indices)])\n",
    "recipes = recipes.loc[recipes[\"cuisine\"].isin(cuisines_to_keep)]\n",
    "\n",
    "# convert all Yes's to 1's and the No's to 0's\n",
    "recipes = recipes.replace(to_replace=\"Yes\", value=1)\n",
    "recipes = recipes.replace(to_replace=\"No\", value=0)\n",
    "\n",
    "print(\"DONE!!!!!!!!!!!!!\")"
   ]
  },
  {
   "cell_type": "markdown",
   "metadata": {
    "button": false,
    "new_sheet": false,
    "run_control": {
     "read_only": false
    }
   },
   "source": [
    "<hr>"
   ]
  },
  {
   "cell_type": "markdown",
   "metadata": {
    "button": false,
    "new_sheet": false,
    "run_control": {
     "read_only": false
    }
   },
   "source": [
    "# Data Modeling <a id=\"2\"></a>"
   ]
  },
  {
   "cell_type": "markdown",
   "metadata": {
    "button": false,
    "new_sheet": false,
    "run_control": {
     "read_only": false
    }
   },
   "source": [
    "<img src=\"https://s3-api.us-geo.objectstorage.softlayer.net/cf-courses-data/CognitiveClass/DS0103EN/labs/images/lab4_fig4_flowchart_data_modeling.png\" width=500>"
   ]
  },
  {
   "cell_type": "markdown",
   "metadata": {
    "button": false,
    "new_sheet": false,
    "run_control": {
     "read_only": false
    }
   },
   "source": [
    "Download and install more libraries and dependies to build decision trees."
   ]
  },
  {
   "cell_type": "code",
   "execution_count": 4,
   "metadata": {
    "button": false,
    "new_sheet": false,
    "run_control": {
     "read_only": false
    }
   },
   "outputs": [
    {
     "name": "stdout",
     "output_type": "stream",
     "text": [
      "Collecting package metadata (current_repodata.json): ...working... done\n",
      "Solving environment: ...working... \n",
      "The environment is inconsistent, please check the package plan carefully\n",
      "The following packages are causing the inconsistency:\n",
      "\n",
      "  - defaults/win-64::anaconda-client==1.7.2=py37_0\n",
      "  - defaults/win-64::anaconda==custom=py37_1\n",
      "  - defaults/win-64::anaconda-navigator==1.9.12=py37_0\n",
      "  - defaults/noarch::anaconda-project==0.8.4=py_0\n",
      "  - defaults/win-64::astropy==4.0.1.post1=py37he774522_0\n",
      "  - defaults/win-64::bkcharts==0.2=py37_0\n",
      "  - defaults/win-64::bokeh==2.0.1=py37_0\n",
      "  - defaults/win-64::bottleneck==1.3.2=py37h2a96729_0\n",
      "  - defaults/win-64::conda==4.8.3=py37_0\n",
      "  - defaults/win-64::conda-build==3.18.9=py37_3\n",
      "  - defaults/noarch::dask==2.14.0=py_0\n",
      "  - defaults/noarch::google-auth-oauthlib==0.4.1=py_2\n",
      "  - defaults/win-64::h5py==2.10.0=py37h5e291fa_0\n",
      "  - defaults/noarch::imageio==2.8.0=py_0\n",
      "  - defaults/noarch::jupyterlab==1.2.6=pyhf63ae98_0\n",
      "  - defaults/noarch::jupyterlab_server==1.1.0=py_0\n",
      "  - defaults/noarch::keras-applications==1.0.8=py_0\n",
      "  - defaults/noarch::keras-preprocessing==1.1.0=py_1\n",
      "  - defaults/win-64::matplotlib==3.1.3=py37_0\n",
      "  - defaults/win-64::matplotlib-base==3.1.3=py37h64f37c6_0\n",
      "  - defaults/win-64::mkl_fft==1.0.15=py37h14836fe_0\n",
      "  - defaults/win-64::mkl_random==1.1.0=py37h675688f_0\n",
      "  - defaults/win-64::numba==0.49.0=py37h47e9c7a_0\n",
      "  - defaults/win-64::numexpr==2.7.1=py37h25d0782_0\n",
      "  - defaults/win-64::numpy==1.18.1=py37h93ca92e_0\n",
      "  - defaults/noarch::numpydoc==0.9.2=py_0\n",
      "  - defaults/noarch::opt_einsum==3.1.0=py_0\n",
      "  - defaults/win-64::pandas==1.0.3=py37h47e9c7a_0\n",
      "  - defaults/win-64::patsy==0.5.1=py37_0\n",
      "  - defaults/win-64::pytables==3.6.1=py37h1da0976_0\n",
      "  - defaults/win-64::pytest-arraydiff==0.3=py37h39e3cac_0\n",
      "  - defaults/noarch::pytest-astropy==0.8.0=py_0\n",
      "  - defaults/noarch::pytest-doctestplus==0.5.0=py_0\n",
      "  - defaults/win-64::pywavelets==1.1.1=py37he774522_0\n",
      "  - defaults/win-64::requests==2.23.0=py37_0\n",
      "  - defaults/noarch::requests-oauthlib==1.3.0=py_0\n",
      "  - defaults/win-64::scikit-image==0.16.2=py37h47e9c7a_0\n",
      "  - defaults/win-64::scikit-learn==0.22.1=py37h6288b17_0\n",
      "  - defaults/win-64::scipy==1.4.1=py37h9439919_0\n",
      "  - defaults/noarch::seaborn==0.10.0=py_0\n",
      "  - defaults/noarch::sphinx==2.4.4=py_0\n",
      "  - defaults/win-64::spyder==4.1.2=py37_0\n",
      "  - defaults/win-64::statsmodels==0.11.0=py37he774522_0\n",
      "  - defaults/noarch::tensorboard==2.1.0=py3_0\n",
      "  - defaults/win-64::tensorflow==2.1.0=eigen_py37hd727fc0_0\n",
      "  - defaults/win-64::tensorflow-base==2.1.0=eigen_py37h49b2757_0\n",
      "  - defaults/noarch::tensorflow-estimator==2.1.0=pyhd54b08b_0\n",
      "  - defaults/win-64::_anaconda_depends==2020.02=py37_0\n",
      "  - defaults/win-64::_ipyw_jlab_nb_ext_conf==0.1.0=py37_0\n",
      "done\n",
      "\n",
      "## Package Plan ##\n",
      "\n",
      "  environment location: C:\\Users\\risha\\Anaconda3\n",
      "\n",
      "  added / updated specs:\n",
      "    - python-graphviz\n",
      "\n",
      "\n",
      "The following packages will be downloaded:\n",
      "\n",
      "    package                    |            build\n",
      "    ---------------------------|-----------------\n",
      "    brotlipy-0.7.0             |py37he774522_1000         336 KB\n",
      "    ca-certificates-2020.6.24  |                0         125 KB\n",
      "    certifi-2020.6.20          |           py37_0         156 KB\n",
      "    graphviz-2.38              |       hfd603c8_2        29.3 MB\n",
      "    mkl-2020.1                 |              216        99.3 MB\n",
      "    mkl_random-1.1.1           |   py37h47e9c7a_0         233 KB\n",
      "    python-graphviz-0.14       |             py_0          25 KB\n",
      "    urllib3-1.25.9             |             py_0         103 KB\n",
      "    ------------------------------------------------------------\n",
      "                                           Total:       129.6 MB\n",
      "\n",
      "The following NEW packages will be INSTALLED:\n",
      "\n",
      "  brotlipy           pkgs/main/win-64::brotlipy-0.7.0-py37he774522_1000\n",
      "  graphviz           pkgs/main/win-64::graphviz-2.38-hfd603c8_2\n",
      "  python-graphviz    pkgs/main/noarch::python-graphviz-0.14-py_0\n",
      "  urllib3            pkgs/main/noarch::urllib3-1.25.9-py_0\n",
      "\n",
      "The following packages will be UPDATED:\n",
      "\n",
      "  ca-certificates                                2020.1.1-0 --> 2020.6.24-0\n",
      "  certifi                                 2020.4.5.1-py37_0 --> 2020.6.20-py37_0\n",
      "  mkl                                            2020.0-166 --> 2020.1-216\n",
      "  mkl_random                           1.1.0-py37h675688f_0 --> 1.1.1-py37h47e9c7a_0\n",
      "\n",
      "\n",
      "\n",
      "Downloading and Extracting Packages\n",
      "\n",
      "brotlipy-0.7.0       | 336 KB    |            |   0% \n",
      "brotlipy-0.7.0       | 336 KB    | 4          |   5% \n",
      "brotlipy-0.7.0       | 336 KB    | ###3       |  33% \n",
      "brotlipy-0.7.0       | 336 KB    | ######6    |  67% \n",
      "brotlipy-0.7.0       | 336 KB    | ########## | 100% \n",
      "\n",
      "graphviz-2.38        | 29.3 MB   |            |   0% \n",
      "graphviz-2.38        | 29.3 MB   |            |   0% \n",
      "graphviz-2.38        | 29.3 MB   |            |   0% \n",
      "graphviz-2.38        | 29.3 MB   |            |   0% \n",
      "graphviz-2.38        | 29.3 MB   |            |   1% \n",
      "graphviz-2.38        | 29.3 MB   |            |   1% \n",
      "graphviz-2.38        | 29.3 MB   | 1          |   1% \n",
      "graphviz-2.38        | 29.3 MB   | 1          |   1% \n",
      "graphviz-2.38        | 29.3 MB   | 1          |   2% \n",
      "graphviz-2.38        | 29.3 MB   | 1          |   2% \n",
      "graphviz-2.38        | 29.3 MB   | 2          |   2% \n",
      "graphviz-2.38        | 29.3 MB   | 2          |   2% \n",
      "graphviz-2.38        | 29.3 MB   | 2          |   3% \n",
      "graphviz-2.38        | 29.3 MB   | 2          |   3% \n",
      "graphviz-2.38        | 29.3 MB   | 3          |   3% \n",
      "graphviz-2.38        | 29.3 MB   | 3          |   4% \n",
      "graphviz-2.38        | 29.3 MB   | 4          |   4% \n",
      "graphviz-2.38        | 29.3 MB   | 4          |   5% \n",
      "graphviz-2.38        | 29.3 MB   | 5          |   5% \n",
      "graphviz-2.38        | 29.3 MB   | 5          |   6% \n",
      "graphviz-2.38        | 29.3 MB   | 6          |   6% \n",
      "graphviz-2.38        | 29.3 MB   | 6          |   7% \n",
      "graphviz-2.38        | 29.3 MB   | 6          |   7% \n",
      "graphviz-2.38        | 29.3 MB   | 7          |   8% \n",
      "graphviz-2.38        | 29.3 MB   | 8          |   8% \n",
      "graphviz-2.38        | 29.3 MB   | 8          |   9% \n",
      "graphviz-2.38        | 29.3 MB   | 9          |   9% \n",
      "graphviz-2.38        | 29.3 MB   | 9          |  10% \n",
      "graphviz-2.38        | 29.3 MB   | #          |  10% \n",
      "graphviz-2.38        | 29.3 MB   | #          |  11% \n",
      "graphviz-2.38        | 29.3 MB   | #1         |  11% \n",
      "graphviz-2.38        | 29.3 MB   | #1         |  12% \n",
      "graphviz-2.38        | 29.3 MB   | #2         |  12% \n",
      "graphviz-2.38        | 29.3 MB   | #2         |  13% \n",
      "graphviz-2.38        | 29.3 MB   | #2         |  13% \n",
      "graphviz-2.38        | 29.3 MB   | #3         |  13% \n",
      "graphviz-2.38        | 29.3 MB   | #3         |  14% \n",
      "graphviz-2.38        | 29.3 MB   | #4         |  14% \n",
      "graphviz-2.38        | 29.3 MB   | #4         |  14% \n",
      "graphviz-2.38        | 29.3 MB   | #4         |  15% \n",
      "graphviz-2.38        | 29.3 MB   | #4         |  15% \n",
      "graphviz-2.38        | 29.3 MB   | #5         |  15% \n",
      "graphviz-2.38        | 29.3 MB   | #5         |  16% \n",
      "graphviz-2.38        | 29.3 MB   | #5         |  16% \n",
      "graphviz-2.38        | 29.3 MB   | #6         |  16% \n",
      "graphviz-2.38        | 29.3 MB   | #6         |  16% \n",
      "graphviz-2.38        | 29.3 MB   | #6         |  17% \n",
      "graphviz-2.38        | 29.3 MB   | #7         |  17% \n",
      "graphviz-2.38        | 29.3 MB   | #7         |  18% \n",
      "graphviz-2.38        | 29.3 MB   | #7         |  18% \n",
      "graphviz-2.38        | 29.3 MB   | #8         |  18% \n",
      "graphviz-2.38        | 29.3 MB   | #8         |  19% \n",
      "graphviz-2.38        | 29.3 MB   | #9         |  19% \n",
      "graphviz-2.38        | 29.3 MB   | #9         |  19% \n",
      "graphviz-2.38        | 29.3 MB   | #9         |  20% \n",
      "graphviz-2.38        | 29.3 MB   | ##         |  20% \n",
      "graphviz-2.38        | 29.3 MB   | ##         |  20% \n",
      "graphviz-2.38        | 29.3 MB   | ##         |  21% \n",
      "graphviz-2.38        | 29.3 MB   | ##1        |  21% \n",
      "graphviz-2.38        | 29.3 MB   | ##1        |  21% \n",
      "graphviz-2.38        | 29.3 MB   | ##1        |  22% \n",
      "graphviz-2.38        | 29.3 MB   | ##1        |  22% \n",
      "graphviz-2.38        | 29.3 MB   | ##2        |  22% \n",
      "graphviz-2.38        | 29.3 MB   | ##2        |  23% \n",
      "graphviz-2.38        | 29.3 MB   | ##3        |  23% \n",
      "graphviz-2.38        | 29.3 MB   | ##3        |  23% \n",
      "graphviz-2.38        | 29.3 MB   | ##3        |  24% \n",
      "graphviz-2.38        | 29.3 MB   | ##4        |  24% \n",
      "graphviz-2.38        | 29.3 MB   | ##4        |  25% \n",
      "graphviz-2.38        | 29.3 MB   | ##5        |  25% \n",
      "graphviz-2.38        | 29.3 MB   | ##5        |  25% \n",
      "graphviz-2.38        | 29.3 MB   | ##5        |  26% \n",
      "graphviz-2.38        | 29.3 MB   | ##6        |  26% \n",
      "graphviz-2.38        | 29.3 MB   | ##6        |  27% \n",
      "graphviz-2.38        | 29.3 MB   | ##6        |  27% \n",
      "graphviz-2.38        | 29.3 MB   | ##7        |  27% \n",
      "graphviz-2.38        | 29.3 MB   | ##7        |  27% \n",
      "graphviz-2.38        | 29.3 MB   | ##7        |  28% \n",
      "graphviz-2.38        | 29.3 MB   | ##8        |  28% \n",
      "graphviz-2.38        | 29.3 MB   | ##8        |  28% \n",
      "graphviz-2.38        | 29.3 MB   | ##8        |  29% \n",
      "graphviz-2.38        | 29.3 MB   | ##9        |  29% \n",
      "graphviz-2.38        | 29.3 MB   | ##9        |  29% \n",
      "graphviz-2.38        | 29.3 MB   | ##9        |  30% \n",
      "graphviz-2.38        | 29.3 MB   | ###        |  30% \n",
      "graphviz-2.38        | 29.3 MB   | ###        |  30% \n",
      "graphviz-2.38        | 29.3 MB   | ###        |  31% \n",
      "graphviz-2.38        | 29.3 MB   | ###1       |  31% \n",
      "graphviz-2.38        | 29.3 MB   | ###1       |  31% \n",
      "graphviz-2.38        | 29.3 MB   | ###1       |  32% \n",
      "graphviz-2.38        | 29.3 MB   | ###2       |  32% \n",
      "graphviz-2.38        | 29.3 MB   | ###2       |  32% \n",
      "graphviz-2.38        | 29.3 MB   | ###2       |  33% \n",
      "graphviz-2.38        | 29.3 MB   | ###2       |  33% \n",
      "graphviz-2.38        | 29.3 MB   | ###3       |  33% \n",
      "graphviz-2.38        | 29.3 MB   | ###3       |  33% \n",
      "graphviz-2.38        | 29.3 MB   | ###3       |  34% \n",
      "graphviz-2.38        | 29.3 MB   | ###4       |  34% \n",
      "graphviz-2.38        | 29.3 MB   | ###4       |  34% \n",
      "graphviz-2.38        | 29.3 MB   | ###4       |  35% \n",
      "graphviz-2.38        | 29.3 MB   | ###4       |  35% \n",
      "graphviz-2.38        | 29.3 MB   | ###5       |  35% \n",
      "graphviz-2.38        | 29.3 MB   | ###5       |  35% \n",
      "graphviz-2.38        | 29.3 MB   | ###5       |  36% \n",
      "graphviz-2.38        | 29.3 MB   | ###6       |  36% \n",
      "graphviz-2.38        | 29.3 MB   | ###6       |  36% \n",
      "graphviz-2.38        | 29.3 MB   | ###6       |  37% \n",
      "graphviz-2.38        | 29.3 MB   | ###7       |  37% \n",
      "graphviz-2.38        | 29.3 MB   | ###7       |  38% \n",
      "graphviz-2.38        | 29.3 MB   | ###7       |  38% \n",
      "graphviz-2.38        | 29.3 MB   | ###8       |  39% \n",
      "graphviz-2.38        | 29.3 MB   | ###8       |  39% \n",
      "graphviz-2.38        | 29.3 MB   | ###9       |  39% \n",
      "graphviz-2.38        | 29.3 MB   | ###9       |  40% \n",
      "graphviz-2.38        | 29.3 MB   | ####       |  40% \n",
      "graphviz-2.38        | 29.3 MB   | ####       |  41% \n",
      "graphviz-2.38        | 29.3 MB   | ####1      |  41% \n",
      "DONE!!!!!!!!!!!!!graphviz-2.38        | 29.3 MB   | ####1      |  42% \n",
      "\n"
     ]
    },
    {
     "name": "stdout",
     "output_type": "stream",
     "text": [
      "graphviz-2.38        | 29.3 MB   | ####2      |  42% \n",
      "graphviz-2.38        | 29.3 MB   | ####2      |  43% \n",
      "graphviz-2.38        | 29.3 MB   | ####3      |  43% \n",
      "graphviz-2.38        | 29.3 MB   | ####3      |  44% \n",
      "graphviz-2.38        | 29.3 MB   | ####4      |  44% \n",
      "graphviz-2.38        | 29.3 MB   | ####4      |  45% \n",
      "graphviz-2.38        | 29.3 MB   | ####5      |  45% \n",
      "graphviz-2.38        | 29.3 MB   | ####5      |  46% \n",
      "graphviz-2.38        | 29.3 MB   | ####6      |  46% \n",
      "graphviz-2.38        | 29.3 MB   | ####6      |  47% \n",
      "graphviz-2.38        | 29.3 MB   | ####7      |  48% \n",
      "graphviz-2.38        | 29.3 MB   | ####8      |  48% \n",
      "graphviz-2.38        | 29.3 MB   | ####8      |  49% \n",
      "graphviz-2.38        | 29.3 MB   | ####9      |  49% \n",
      "graphviz-2.38        | 29.3 MB   | ####9      |  50% \n",
      "graphviz-2.38        | 29.3 MB   | #####      |  50% \n",
      "graphviz-2.38        | 29.3 MB   | #####      |  51% \n",
      "graphviz-2.38        | 29.3 MB   | #####1     |  51% \n",
      "graphviz-2.38        | 29.3 MB   | #####1     |  52% \n",
      "graphviz-2.38        | 29.3 MB   | #####2     |  52% \n",
      "graphviz-2.38        | 29.3 MB   | #####2     |  53% \n",
      "graphviz-2.38        | 29.3 MB   | #####3     |  53% \n",
      "graphviz-2.38        | 29.3 MB   | #####3     |  54% \n",
      "graphviz-2.38        | 29.3 MB   | #####4     |  54% \n",
      "graphviz-2.38        | 29.3 MB   | #####4     |  55% \n",
      "graphviz-2.38        | 29.3 MB   | #####5     |  55% \n",
      "graphviz-2.38        | 29.3 MB   | #####5     |  56% \n",
      "graphviz-2.38        | 29.3 MB   | #####5     |  56% \n",
      "graphviz-2.38        | 29.3 MB   | #####6     |  56% \n",
      "graphviz-2.38        | 29.3 MB   | #####6     |  57% \n",
      "graphviz-2.38        | 29.3 MB   | #####7     |  57% \n",
      "graphviz-2.38        | 29.3 MB   | #####7     |  58% \n",
      "graphviz-2.38        | 29.3 MB   | #####7     |  58% \n",
      "graphviz-2.38        | 29.3 MB   | #####8     |  58% \n",
      "graphviz-2.38        | 29.3 MB   | #####8     |  59% \n",
      "graphviz-2.38        | 29.3 MB   | #####9     |  59% \n",
      "graphviz-2.38        | 29.3 MB   | #####9     |  60% \n",
      "graphviz-2.38        | 29.3 MB   | ######     |  60% \n",
      "graphviz-2.38        | 29.3 MB   | ######     |  60% \n",
      "graphviz-2.38        | 29.3 MB   | ######     |  61% \n",
      "graphviz-2.38        | 29.3 MB   | ######1    |  61% \n",
      "graphviz-2.38        | 29.3 MB   | ######1    |  62% \n",
      "graphviz-2.38        | 29.3 MB   | ######2    |  62% \n",
      "graphviz-2.38        | 29.3 MB   | ######2    |  63% \n",
      "graphviz-2.38        | 29.3 MB   | ######2    |  63% \n",
      "graphviz-2.38        | 29.3 MB   | ######3    |  63% \n",
      "graphviz-2.38        | 29.3 MB   | ######3    |  64% \n",
      "graphviz-2.38        | 29.3 MB   | ######4    |  64% \n",
      "graphviz-2.38        | 29.3 MB   | ######4    |  64% \n",
      "graphviz-2.38        | 29.3 MB   | ######4    |  65% \n",
      "graphviz-2.38        | 29.3 MB   | ######5    |  65% \n",
      "graphviz-2.38        | 29.3 MB   | ######5    |  66% \n",
      "graphviz-2.38        | 29.3 MB   | ######5    |  66% \n",
      "graphviz-2.38        | 29.3 MB   | ######6    |  66% \n",
      "graphviz-2.38        | 29.3 MB   | ######6    |  67% \n",
      "graphviz-2.38        | 29.3 MB   | ######7    |  68% \n",
      "graphviz-2.38        | 29.3 MB   | ######8    |  68% \n",
      "graphviz-2.38        | 29.3 MB   | ######8    |  69% \n",
      "graphviz-2.38        | 29.3 MB   | ######9    |  69% \n",
      "graphviz-2.38        | 29.3 MB   | ######9    |  70% \n",
      "graphviz-2.38        | 29.3 MB   | #######    |  70% \n",
      "graphviz-2.38        | 29.3 MB   | #######    |  70% \n",
      "graphviz-2.38        | 29.3 MB   | #######    |  71% \n",
      "graphviz-2.38        | 29.3 MB   | #######1   |  71% \n",
      "graphviz-2.38        | 29.3 MB   | #######1   |  71% \n",
      "graphviz-2.38        | 29.3 MB   | #######1   |  72% \n",
      "graphviz-2.38        | 29.3 MB   | #######2   |  72% \n",
      "graphviz-2.38        | 29.3 MB   | #######2   |  72% \n",
      "graphviz-2.38        | 29.3 MB   | #######2   |  73% \n",
      "graphviz-2.38        | 29.3 MB   | #######3   |  73% \n",
      "graphviz-2.38        | 29.3 MB   | #######3   |  73% \n",
      "graphviz-2.38        | 29.3 MB   | #######3   |  74% \n",
      "graphviz-2.38        | 29.3 MB   | #######4   |  74% \n",
      "graphviz-2.38        | 29.3 MB   | #######4   |  74% \n",
      "graphviz-2.38        | 29.3 MB   | #######4   |  75% \n",
      "graphviz-2.38        | 29.3 MB   | #######5   |  75% \n",
      "graphviz-2.38        | 29.3 MB   | #######5   |  75% \n",
      "graphviz-2.38        | 29.3 MB   | #######5   |  76% \n",
      "graphviz-2.38        | 29.3 MB   | #######6   |  76% \n",
      "graphviz-2.38        | 29.3 MB   | #######6   |  77% \n",
      "graphviz-2.38        | 29.3 MB   | #######7   |  77% \n",
      "graphviz-2.38        | 29.3 MB   | #######7   |  77% \n",
      "graphviz-2.38        | 29.3 MB   | #######7   |  78% \n",
      "graphviz-2.38        | 29.3 MB   | #######8   |  78% \n",
      "graphviz-2.38        | 29.3 MB   | #######8   |  79% \n",
      "graphviz-2.38        | 29.3 MB   | #######9   |  79% \n",
      "graphviz-2.38        | 29.3 MB   | #######9   |  80% \n",
      "graphviz-2.38        | 29.3 MB   | ########   |  80% \n",
      "graphviz-2.38        | 29.3 MB   | ########   |  81% \n",
      "graphviz-2.38        | 29.3 MB   | ########1  |  81% \n",
      "graphviz-2.38        | 29.3 MB   | ########1  |  82% \n",
      "graphviz-2.38        | 29.3 MB   | ########2  |  82% \n",
      "graphviz-2.38        | 29.3 MB   | ########2  |  83% \n",
      "graphviz-2.38        | 29.3 MB   | ########3  |  83% \n",
      "graphviz-2.38        | 29.3 MB   | ########4  |  84% \n",
      "graphviz-2.38        | 29.3 MB   | ########4  |  85% \n",
      "graphviz-2.38        | 29.3 MB   | ########5  |  85% \n",
      "graphviz-2.38        | 29.3 MB   | ########5  |  86% \n",
      "graphviz-2.38        | 29.3 MB   | ########6  |  86% \n",
      "graphviz-2.38        | 29.3 MB   | ########6  |  86% \n",
      "graphviz-2.38        | 29.3 MB   | ########7  |  87% \n",
      "graphviz-2.38        | 29.3 MB   | ########7  |  87% \n",
      "graphviz-2.38        | 29.3 MB   | ########7  |  88% \n",
      "graphviz-2.38        | 29.3 MB   | ########8  |  88% \n",
      "graphviz-2.38        | 29.3 MB   | ########8  |  89% \n",
      "graphviz-2.38        | 29.3 MB   | ########9  |  89% \n",
      "graphviz-2.38        | 29.3 MB   | ########9  |  90% \n",
      "graphviz-2.38        | 29.3 MB   | #########  |  90% \n",
      "graphviz-2.38        | 29.3 MB   | #########  |  91% \n",
      "graphviz-2.38        | 29.3 MB   | #########1 |  92% \n",
      "graphviz-2.38        | 29.3 MB   | #########2 |  93% \n",
      "graphviz-2.38        | 29.3 MB   | #########3 |  93% \n",
      "graphviz-2.38        | 29.3 MB   | #########3 |  94% \n",
      "graphviz-2.38        | 29.3 MB   | #########4 |  94% \n",
      "graphviz-2.38        | 29.3 MB   | #########5 |  95% \n",
      "graphviz-2.38        | 29.3 MB   | #########5 |  96% \n",
      "graphviz-2.38        | 29.3 MB   | #########6 |  96% \n",
      "graphviz-2.38        | 29.3 MB   | #########7 |  97% \n",
      "graphviz-2.38        | 29.3 MB   | #########7 |  98% \n",
      "graphviz-2.38        | 29.3 MB   | #########8 |  99% \n",
      "graphviz-2.38        | 29.3 MB   | #########9 |  99% \n",
      "graphviz-2.38        | 29.3 MB   | ########## | 100% \n",
      "\n",
      "urllib3-1.25.9       | 103 KB    |            |   0% \n",
      "urllib3-1.25.9       | 103 KB    | #5         |  16% \n",
      "urllib3-1.25.9       | 103 KB    | ########## | 100% \n",
      "\n",
      "mkl-2020.1           | 99.3 MB   |            |   0% \n",
      "mkl-2020.1           | 99.3 MB   |            |   0% \n",
      "mkl-2020.1           | 99.3 MB   |            |   0% \n",
      "mkl-2020.1           | 99.3 MB   |            |   0% \n",
      "mkl-2020.1           | 99.3 MB   |            |   1% \n",
      "mkl-2020.1           | 99.3 MB   |            |   1% \n",
      "mkl-2020.1           | 99.3 MB   |            |   1% \n",
      "mkl-2020.1           | 99.3 MB   |            |   1% \n",
      "mkl-2020.1           | 99.3 MB   | 1          |   1% \n",
      "mkl-2020.1           | 99.3 MB   | 1          |   1% \n",
      "mkl-2020.1           | 99.3 MB   | 3          |   3% \n",
      "mkl-2020.1           | 99.3 MB   | 3          |   4% \n",
      "mkl-2020.1           | 99.3 MB   | 4          |   4% \n",
      "mkl-2020.1           | 99.3 MB   | 4          |   5% \n",
      "mkl-2020.1           | 99.3 MB   | 4          |   5% \n",
      "mkl-2020.1           | 99.3 MB   | 5          |   5% \n",
      "mkl-2020.1           | 99.3 MB   | 5          |   5% \n",
      "mkl-2020.1           | 99.3 MB   | 5          |   5% \n",
      "mkl-2020.1           | 99.3 MB   | 5          |   6% \n",
      "mkl-2020.1           | 99.3 MB   | 5          |   6% \n",
      "mkl-2020.1           | 99.3 MB   | 5          |   6% \n",
      "mkl-2020.1           | 99.3 MB   | 6          |   6% \n",
      "mkl-2020.1           | 99.3 MB   | 6          |   6% \n",
      "mkl-2020.1           | 99.3 MB   | 6          |   6% \n",
      "mkl-2020.1           | 99.3 MB   | 6          |   6% \n",
      "mkl-2020.1           | 99.3 MB   | 6          |   7% \n",
      "mkl-2020.1           | 99.3 MB   | 6          |   7% \n",
      "mkl-2020.1           | 99.3 MB   | 6          |   7% \n",
      "mkl-2020.1           | 99.3 MB   | 7          |   7% \n",
      "mkl-2020.1           | 99.3 MB   | 7          |   7% \n",
      "mkl-2020.1           | 99.3 MB   | 7          |   7% \n",
      "mkl-2020.1           | 99.3 MB   | 7          |   7% \n",
      "mkl-2020.1           | 99.3 MB   | 7          |   7% \n",
      "mkl-2020.1           | 99.3 MB   | 7          |   8% \n",
      "mkl-2020.1           | 99.3 MB   | 7          |   8% \n",
      "mkl-2020.1           | 99.3 MB   | 7          |   8% \n",
      "mkl-2020.1           | 99.3 MB   | 7          |   8% \n",
      "mkl-2020.1           | 99.3 MB   | 7          |   8% \n",
      "mkl-2020.1           | 99.3 MB   | 7          |   8% \n",
      "mkl-2020.1           | 99.3 MB   | 8          |   8% \n",
      "mkl-2020.1           | 99.3 MB   | 8          |   8% \n",
      "mkl-2020.1           | 99.3 MB   | 8          |   8% \n",
      "mkl-2020.1           | 99.3 MB   | 8          |   8% \n",
      "mkl-2020.1           | 99.3 MB   | 8          |   8% \n",
      "mkl-2020.1           | 99.3 MB   | 8          |   8% \n",
      "mkl-2020.1           | 99.3 MB   | 8          |   9% \n",
      "mkl-2020.1           | 99.3 MB   | 8          |   9% \n",
      "mkl-2020.1           | 99.3 MB   | 8          |   9% \n",
      "mkl-2020.1           | 99.3 MB   | 8          |   9% \n",
      "mkl-2020.1           | 99.3 MB   | 8          |   9% \n",
      "mkl-2020.1           | 99.3 MB   | 8          |   9% \n",
      "mkl-2020.1           | 99.3 MB   | 8          |   9% \n",
      "mkl-2020.1           | 99.3 MB   | 8          |   9% \n",
      "mkl-2020.1           | 99.3 MB   | 9          |   9% \n",
      "mkl-2020.1           | 99.3 MB   | 9          |   9% \n",
      "mkl-2020.1           | 99.3 MB   | 9          |   9% \n",
      "mkl-2020.1           | 99.3 MB   | 9          |   9% \n",
      "mkl-2020.1           | 99.3 MB   | 9          |   9% \n",
      "mkl-2020.1           | 99.3 MB   | 9          |   9% \n",
      "mkl-2020.1           | 99.3 MB   | 9          |   9% \n",
      "mkl-2020.1           | 99.3 MB   | 9          |   9% \n",
      "mkl-2020.1           | 99.3 MB   | 9          |  10% \n",
      "mkl-2020.1           | 99.3 MB   | 9          |  10% \n",
      "mkl-2020.1           | 99.3 MB   | 9          |  10% \n",
      "mkl-2020.1           | 99.3 MB   | 9          |  10% \n",
      "mkl-2020.1           | 99.3 MB   | 9          |  10% \n",
      "mkl-2020.1           | 99.3 MB   | 9          |  10% \n",
      "mkl-2020.1           | 99.3 MB   | 9          |  10% \n",
      "mkl-2020.1           | 99.3 MB   | 9          |  10% \n",
      "mkl-2020.1           | 99.3 MB   | 9          |  10% \n",
      "mkl-2020.1           | 99.3 MB   | #          |  10% \n",
      "mkl-2020.1           | 99.3 MB   | #          |  10% \n",
      "mkl-2020.1           | 99.3 MB   | #          |  10% \n",
      "mkl-2020.1           | 99.3 MB   | #          |  10% \n",
      "mkl-2020.1           | 99.3 MB   | #          |  10% \n",
      "mkl-2020.1           | 99.3 MB   | #          |  10% \n",
      "mkl-2020.1           | 99.3 MB   | #          |  10% \n",
      "mkl-2020.1           | 99.3 MB   | #          |  10% \n",
      "mkl-2020.1           | 99.3 MB   | #          |  10% \n",
      "mkl-2020.1           | 99.3 MB   | #          |  10% \n",
      "mkl-2020.1           | 99.3 MB   | #          |  11% \n",
      "mkl-2020.1           | 99.3 MB   | #          |  11% \n",
      "mkl-2020.1           | 99.3 MB   | #          |  11% \n",
      "mkl-2020.1           | 99.3 MB   | #          |  11% \n",
      "mkl-2020.1           | 99.3 MB   | #          |  11% \n",
      "mkl-2020.1           | 99.3 MB   | #          |  11% \n",
      "mkl-2020.1           | 99.3 MB   | #1         |  11% \n",
      "mkl-2020.1           | 99.3 MB   | #1         |  11% \n",
      "mkl-2020.1           | 99.3 MB   | #1         |  11% \n",
      "mkl-2020.1           | 99.3 MB   | #1         |  11% \n",
      "mkl-2020.1           | 99.3 MB   | #1         |  11% \n",
      "mkl-2020.1           | 99.3 MB   | #1         |  11% \n",
      "mkl-2020.1           | 99.3 MB   | #1         |  11% \n",
      "mkl-2020.1           | 99.3 MB   | #1         |  12% \n",
      "mkl-2020.1           | 99.3 MB   | #1         |  12% \n",
      "mkl-2020.1           | 99.3 MB   | #1         |  12% \n",
      "mkl-2020.1           | 99.3 MB   | #1         |  12% \n",
      "mkl-2020.1           | 99.3 MB   | #1         |  12% \n",
      "mkl-2020.1           | 99.3 MB   | #1         |  12% \n",
      "mkl-2020.1           | 99.3 MB   | #2         |  12% \n",
      "mkl-2020.1           | 99.3 MB   | #2         |  12% \n",
      "mkl-2020.1           | 99.3 MB   | #2         |  12% \n",
      "mkl-2020.1           | 99.3 MB   | #2         |  12% \n",
      "mkl-2020.1           | 99.3 MB   | #2         |  12% \n",
      "mkl-2020.1           | 99.3 MB   | #2         |  12% \n",
      "mkl-2020.1           | 99.3 MB   | #2         |  13% \n",
      "mkl-2020.1           | 99.3 MB   | #2         |  13% \n",
      "mkl-2020.1           | 99.3 MB   | #2         |  13% \n",
      "mkl-2020.1           | 99.3 MB   | #2         |  13% \n",
      "mkl-2020.1           | 99.3 MB   | #2         |  13% \n",
      "mkl-2020.1           | 99.3 MB   | #2         |  13% \n",
      "mkl-2020.1           | 99.3 MB   | #3         |  13% \n",
      "mkl-2020.1           | 99.3 MB   | #3         |  13% \n",
      "mkl-2020.1           | 99.3 MB   | #3         |  13% \n",
      "mkl-2020.1           | 99.3 MB   | #3         |  13% \n",
      "mkl-2020.1           | 99.3 MB   | #3         |  13% \n",
      "mkl-2020.1           | 99.3 MB   | #3         |  13% \n",
      "mkl-2020.1           | 99.3 MB   | #3         |  13% \n",
      "mkl-2020.1           | 99.3 MB   | #3         |  14% \n",
      "mkl-2020.1           | 99.3 MB   | #3         |  14% \n",
      "mkl-2020.1           | 99.3 MB   | #3         |  14% \n",
      "mkl-2020.1           | 99.3 MB   | #3         |  14% \n",
      "mkl-2020.1           | 99.3 MB   | #3         |  14% \n",
      "mkl-2020.1           | 99.3 MB   | #4         |  14% \n",
      "mkl-2020.1           | 99.3 MB   | #4         |  14% \n",
      "mkl-2020.1           | 99.3 MB   | #4         |  14% \n",
      "mkl-2020.1           | 99.3 MB   | #4         |  14% \n",
      "mkl-2020.1           | 99.3 MB   | #4         |  14% \n",
      "mkl-2020.1           | 99.3 MB   | #4         |  15% \n",
      "mkl-2020.1           | 99.3 MB   | #4         |  15% \n",
      "mkl-2020.1           | 99.3 MB   | #4         |  15% \n",
      "mkl-2020.1           | 99.3 MB   | #4         |  15% \n",
      "mkl-2020.1           | 99.3 MB   | #4         |  15% \n",
      "mkl-2020.1           | 99.3 MB   | #5         |  15% \n",
      "mkl-2020.1           | 99.3 MB   | #5         |  15% \n",
      "mkl-2020.1           | 99.3 MB   | #5         |  15% \n",
      "mkl-2020.1           | 99.3 MB   | #5         |  15% \n",
      "mkl-2020.1           | 99.3 MB   | #5         |  15% \n",
      "mkl-2020.1           | 99.3 MB   | #5         |  15% \n",
      "mkl-2020.1           | 99.3 MB   | #5         |  16% \n",
      "mkl-2020.1           | 99.3 MB   | #5         |  16% \n",
      "mkl-2020.1           | 99.3 MB   | #5         |  16% \n",
      "mkl-2020.1           | 99.3 MB   | #5         |  16% \n",
      "mkl-2020.1           | 99.3 MB   | #5         |  16% \n",
      "mkl-2020.1           | 99.3 MB   | #5         |  16% \n",
      "mkl-2020.1           | 99.3 MB   | #6         |  16% \n",
      "mkl-2020.1           | 99.3 MB   | #6         |  16% \n",
      "mkl-2020.1           | 99.3 MB   | #6         |  16% \n",
      "mkl-2020.1           | 99.3 MB   | #6         |  16% \n",
      "mkl-2020.1           | 99.3 MB   | #6         |  16% \n",
      "mkl-2020.1           | 99.3 MB   | #6         |  16% \n",
      "mkl-2020.1           | 99.3 MB   | #6         |  17% \n",
      "mkl-2020.1           | 99.3 MB   | #6         |  17% \n",
      "mkl-2020.1           | 99.3 MB   | #6         |  17% \n",
      "mkl-2020.1           | 99.3 MB   | #6         |  17% \n",
      "mkl-2020.1           | 99.3 MB   | #7         |  17% \n",
      "mkl-2020.1           | 99.3 MB   | #7         |  17% \n",
      "mkl-2020.1           | 99.3 MB   | #7         |  17% \n",
      "mkl-2020.1           | 99.3 MB   | #7         |  17% \n"
     ]
    },
    {
     "name": "stdout",
     "output_type": "stream",
     "text": [
      "mkl-2020.1           | 99.3 MB   | #7         |  17% \n",
      "mkl-2020.1           | 99.3 MB   | #7         |  17% \n",
      "mkl-2020.1           | 99.3 MB   | #7         |  17% \n",
      "mkl-2020.1           | 99.3 MB   | #7         |  18% \n",
      "mkl-2020.1           | 99.3 MB   | #7         |  18% \n",
      "mkl-2020.1           | 99.3 MB   | #7         |  18% \n",
      "mkl-2020.1           | 99.3 MB   | #7         |  18% \n",
      "mkl-2020.1           | 99.3 MB   | #7         |  18% \n",
      "mkl-2020.1           | 99.3 MB   | #7         |  18% \n",
      "mkl-2020.1           | 99.3 MB   | #7         |  18% \n",
      "mkl-2020.1           | 99.3 MB   | #7         |  18% \n",
      "mkl-2020.1           | 99.3 MB   | #8         |  18% \n",
      "mkl-2020.1           | 99.3 MB   | #8         |  18% \n",
      "mkl-2020.1           | 99.3 MB   | #8         |  18% \n",
      "mkl-2020.1           | 99.3 MB   | #8         |  18% \n",
      "mkl-2020.1           | 99.3 MB   | #8         |  18% \n",
      "mkl-2020.1           | 99.3 MB   | #8         |  18% \n",
      "mkl-2020.1           | 99.3 MB   | #8         |  18% \n",
      "mkl-2020.1           | 99.3 MB   | #8         |  18% \n",
      "mkl-2020.1           | 99.3 MB   | #8         |  18% \n",
      "mkl-2020.1           | 99.3 MB   | #8         |  19% \n",
      "mkl-2020.1           | 99.3 MB   | #8         |  19% \n",
      "mkl-2020.1           | 99.3 MB   | #8         |  19% \n",
      "mkl-2020.1           | 99.3 MB   | #8         |  19% \n",
      "mkl-2020.1           | 99.3 MB   | #8         |  19% \n",
      "mkl-2020.1           | 99.3 MB   | #8         |  19% \n",
      "mkl-2020.1           | 99.3 MB   | #8         |  19% \n",
      "mkl-2020.1           | 99.3 MB   | #8         |  19% \n",
      "mkl-2020.1           | 99.3 MB   | #9         |  19% \n",
      "mkl-2020.1           | 99.3 MB   | #9         |  19% \n",
      "mkl-2020.1           | 99.3 MB   | #9         |  19% \n",
      "mkl-2020.1           | 99.3 MB   | #9         |  19% \n",
      "mkl-2020.1           | 99.3 MB   | #9         |  19% \n",
      "mkl-2020.1           | 99.3 MB   | #9         |  19% \n",
      "mkl-2020.1           | 99.3 MB   | #9         |  19% \n",
      "mkl-2020.1           | 99.3 MB   | #9         |  19% \n",
      "mkl-2020.1           | 99.3 MB   | #9         |  20% \n",
      "mkl-2020.1           | 99.3 MB   | #9         |  20% \n",
      "mkl-2020.1           | 99.3 MB   | #9         |  20% \n",
      "mkl-2020.1           | 99.3 MB   | #9         |  20% \n",
      "mkl-2020.1           | 99.3 MB   | #9         |  20% \n",
      "mkl-2020.1           | 99.3 MB   | #9         |  20% \n",
      "mkl-2020.1           | 99.3 MB   | #9         |  20% \n",
      "mkl-2020.1           | 99.3 MB   | #9         |  20% \n",
      "mkl-2020.1           | 99.3 MB   | #9         |  20% \n",
      "mkl-2020.1           | 99.3 MB   | ##         |  20% \n",
      "mkl-2020.1           | 99.3 MB   | ##         |  20% \n",
      "mkl-2020.1           | 99.3 MB   | ##         |  20% \n",
      "mkl-2020.1           | 99.3 MB   | ##         |  20% \n",
      "mkl-2020.1           | 99.3 MB   | ##         |  20% \n",
      "mkl-2020.1           | 99.3 MB   | ##         |  20% \n",
      "mkl-2020.1           | 99.3 MB   | ##         |  21% \n",
      "mkl-2020.1           | 99.3 MB   | ##         |  21% \n",
      "mkl-2020.1           | 99.3 MB   | ##         |  21% \n",
      "mkl-2020.1           | 99.3 MB   | ##         |  21% \n",
      "mkl-2020.1           | 99.3 MB   | ##         |  21% \n",
      "mkl-2020.1           | 99.3 MB   | ##         |  21% \n",
      "mkl-2020.1           | 99.3 MB   | ##         |  21% \n",
      "mkl-2020.1           | 99.3 MB   | ##         |  21% \n",
      "mkl-2020.1           | 99.3 MB   | ##1        |  21% \n",
      "mkl-2020.1           | 99.3 MB   | ##1        |  21% \n",
      "mkl-2020.1           | 99.3 MB   | ##1        |  21% \n",
      "mkl-2020.1           | 99.3 MB   | ##1        |  21% \n",
      "mkl-2020.1           | 99.3 MB   | ##1        |  21% \n",
      "mkl-2020.1           | 99.3 MB   | ##1        |  21% \n",
      "mkl-2020.1           | 99.3 MB   | ##1        |  21% \n",
      "mkl-2020.1           | 99.3 MB   | ##1        |  21% \n",
      "mkl-2020.1           | 99.3 MB   | ##1        |  21% \n",
      "mkl-2020.1           | 99.3 MB   | ##1        |  22% \n",
      "mkl-2020.1           | 99.3 MB   | ##1        |  22% \n",
      "mkl-2020.1           | 99.3 MB   | ##1        |  22% \n",
      "mkl-2020.1           | 99.3 MB   | ##1        |  22% \n",
      "mkl-2020.1           | 99.3 MB   | ##1        |  22% \n",
      "mkl-2020.1           | 99.3 MB   | ##1        |  22% \n",
      "mkl-2020.1           | 99.3 MB   | ##1        |  22% \n",
      "mkl-2020.1           | 99.3 MB   | ##1        |  22% \n",
      "mkl-2020.1           | 99.3 MB   | ##1        |  22% \n",
      "mkl-2020.1           | 99.3 MB   | ##2        |  22% \n",
      "mkl-2020.1           | 99.3 MB   | ##2        |  22% \n",
      "mkl-2020.1           | 99.3 MB   | ##2        |  22% \n",
      "mkl-2020.1           | 99.3 MB   | ##2        |  22% \n",
      "mkl-2020.1           | 99.3 MB   | ##2        |  22% \n",
      "mkl-2020.1           | 99.3 MB   | ##2        |  22% \n",
      "mkl-2020.1           | 99.3 MB   | ##2        |  22% \n",
      "mkl-2020.1           | 99.3 MB   | ##2        |  23% \n",
      "mkl-2020.1           | 99.3 MB   | ##2        |  23% \n",
      "mkl-2020.1           | 99.3 MB   | ##2        |  23% \n",
      "mkl-2020.1           | 99.3 MB   | ##2        |  23% \n",
      "mkl-2020.1           | 99.3 MB   | ##2        |  23% \n",
      "mkl-2020.1           | 99.3 MB   | ##2        |  23% \n",
      "mkl-2020.1           | 99.3 MB   | ##2        |  23% \n",
      "mkl-2020.1           | 99.3 MB   | ##3        |  23% \n",
      "mkl-2020.1           | 99.3 MB   | ##3        |  23% \n",
      "mkl-2020.1           | 99.3 MB   | ##3        |  23% \n",
      "mkl-2020.1           | 99.3 MB   | ##3        |  23% \n",
      "mkl-2020.1           | 99.3 MB   | ##3        |  23% \n",
      "mkl-2020.1           | 99.3 MB   | ##3        |  23% \n",
      "mkl-2020.1           | 99.3 MB   | ##3        |  23% \n",
      "mkl-2020.1           | 99.3 MB   | ##3        |  24% \n",
      "mkl-2020.1           | 99.3 MB   | ##3        |  24% \n",
      "mkl-2020.1           | 99.3 MB   | ##3        |  24% \n",
      "mkl-2020.1           | 99.3 MB   | ##3        |  24% \n",
      "mkl-2020.1           | 99.3 MB   | ##3        |  24% \n",
      "mkl-2020.1           | 99.3 MB   | ##3        |  24% \n",
      "mkl-2020.1           | 99.3 MB   | ##3        |  24% \n",
      "mkl-2020.1           | 99.3 MB   | ##4        |  24% \n",
      "mkl-2020.1           | 99.3 MB   | ##4        |  24% \n",
      "mkl-2020.1           | 99.3 MB   | ##4        |  24% \n",
      "mkl-2020.1           | 99.3 MB   | ##4        |  24% \n",
      "mkl-2020.1           | 99.3 MB   | ##4        |  24% \n",
      "mkl-2020.1           | 99.3 MB   | ##4        |  24% \n",
      "mkl-2020.1           | 99.3 MB   | ##4        |  24% \n",
      "mkl-2020.1           | 99.3 MB   | ##4        |  25% \n",
      "mkl-2020.1           | 99.3 MB   | ##4        |  25% \n",
      "mkl-2020.1           | 99.3 MB   | ##4        |  25% \n",
      "mkl-2020.1           | 99.3 MB   | ##4        |  25% \n",
      "mkl-2020.1           | 99.3 MB   | ##4        |  25% \n",
      "mkl-2020.1           | 99.3 MB   | ##4        |  25% \n",
      "mkl-2020.1           | 99.3 MB   | ##4        |  25% \n",
      "mkl-2020.1           | 99.3 MB   | ##5        |  25% \n",
      "mkl-2020.1           | 99.3 MB   | ##5        |  25% \n",
      "mkl-2020.1           | 99.3 MB   | ##5        |  25% \n",
      "mkl-2020.1           | 99.3 MB   | ##5        |  25% \n",
      "mkl-2020.1           | 99.3 MB   | ##5        |  25% \n",
      "mkl-2020.1           | 99.3 MB   | ##5        |  25% \n",
      "mkl-2020.1           | 99.3 MB   | ##5        |  25% \n",
      "mkl-2020.1           | 99.3 MB   | ##5        |  26% \n",
      "mkl-2020.1           | 99.3 MB   | ##5        |  26% \n",
      "mkl-2020.1           | 99.3 MB   | ##5        |  26% \n",
      "mkl-2020.1           | 99.3 MB   | ##5        |  26% \n",
      "mkl-2020.1           | 99.3 MB   | ##6        |  26% \n",
      "mkl-2020.1           | 99.3 MB   | ##6        |  26% \n",
      "mkl-2020.1           | 99.3 MB   | ##6        |  26% \n",
      "mkl-2020.1           | 99.3 MB   | ##6        |  26% \n",
      "mkl-2020.1           | 99.3 MB   | ##6        |  26% \n",
      "mkl-2020.1           | 99.3 MB   | ##6        |  27% \n",
      "mkl-2020.1           | 99.3 MB   | ##6        |  27% \n",
      "mkl-2020.1           | 99.3 MB   | ##6        |  27% \n",
      "mkl-2020.1           | 99.3 MB   | ##6        |  27% \n",
      "mkl-2020.1           | 99.3 MB   | ##6        |  27% \n",
      "mkl-2020.1           | 99.3 MB   | ##7        |  27% \n",
      "mkl-2020.1           | 99.3 MB   | ##7        |  27% \n",
      "mkl-2020.1           | 99.3 MB   | ##7        |  27% \n",
      "mkl-2020.1           | 99.3 MB   | ##7        |  27% \n",
      "mkl-2020.1           | 99.3 MB   | ##7        |  27% \n",
      "mkl-2020.1           | 99.3 MB   | ##7        |  28% \n",
      "mkl-2020.1           | 99.3 MB   | ##7        |  28% \n",
      "mkl-2020.1           | 99.3 MB   | ##7        |  28% \n",
      "mkl-2020.1           | 99.3 MB   | ##7        |  28% \n",
      "mkl-2020.1           | 99.3 MB   | ##8        |  28% \n",
      "mkl-2020.1           | 99.3 MB   | ##8        |  28% \n",
      "mkl-2020.1           | 99.3 MB   | ##8        |  28% \n",
      "mkl-2020.1           | 99.3 MB   | ##8        |  28% \n",
      "mkl-2020.1           | 99.3 MB   | ##8        |  29% \n",
      "mkl-2020.1           | 99.3 MB   | ##8        |  29% \n",
      "mkl-2020.1           | 99.3 MB   | ##8        |  29% \n",
      "mkl-2020.1           | 99.3 MB   | ##8        |  29% \n",
      "mkl-2020.1           | 99.3 MB   | ##9        |  29% \n",
      "mkl-2020.1           | 99.3 MB   | ##9        |  29% \n",
      "mkl-2020.1           | 99.3 MB   | ##9        |  29% \n",
      "mkl-2020.1           | 99.3 MB   | ##9        |  29% \n",
      "mkl-2020.1           | 99.3 MB   | ##9        |  30% \n",
      "mkl-2020.1           | 99.3 MB   | ##9        |  30% \n",
      "mkl-2020.1           | 99.3 MB   | ##9        |  30% \n",
      "mkl-2020.1           | 99.3 MB   | ###        |  30% \n",
      "mkl-2020.1           | 99.3 MB   | ###        |  30% \n",
      "mkl-2020.1           | 99.3 MB   | ###        |  30% \n",
      "mkl-2020.1           | 99.3 MB   | ###        |  31% \n",
      "mkl-2020.1           | 99.3 MB   | ###        |  31% \n",
      "mkl-2020.1           | 99.3 MB   | ###        |  31% \n",
      "mkl-2020.1           | 99.3 MB   | ###        |  31% \n",
      "mkl-2020.1           | 99.3 MB   | ###1       |  31% \n",
      "mkl-2020.1           | 99.3 MB   | ###1       |  31% \n",
      "mkl-2020.1           | 99.3 MB   | ###1       |  31% \n",
      "mkl-2020.1           | 99.3 MB   | ###1       |  31% \n",
      "mkl-2020.1           | 99.3 MB   | ###1       |  32% \n",
      "mkl-2020.1           | 99.3 MB   | ###1       |  32% \n",
      "mkl-2020.1           | 99.3 MB   | ###1       |  32% \n",
      "mkl-2020.1           | 99.3 MB   | ###1       |  32% \n",
      "mkl-2020.1           | 99.3 MB   | ###1       |  32% \n",
      "mkl-2020.1           | 99.3 MB   | ###1       |  32% \n",
      "mkl-2020.1           | 99.3 MB   | ###2       |  32% \n",
      "mkl-2020.1           | 99.3 MB   | ###2       |  32% \n",
      "mkl-2020.1           | 99.3 MB   | ###2       |  32% \n",
      "mkl-2020.1           | 99.3 MB   | ###2       |  32% \n",
      "mkl-2020.1           | 99.3 MB   | ###2       |  32% \n",
      "mkl-2020.1           | 99.3 MB   | ###2       |  32% \n",
      "mkl-2020.1           | 99.3 MB   | ###2       |  33% \n",
      "mkl-2020.1           | 99.3 MB   | ###2       |  33% \n",
      "mkl-2020.1           | 99.3 MB   | ###2       |  33% \n",
      "mkl-2020.1           | 99.3 MB   | ###2       |  33% \n",
      "mkl-2020.1           | 99.3 MB   | ###2       |  33% \n",
      "mkl-2020.1           | 99.3 MB   | ###3       |  33% \n",
      "mkl-2020.1           | 99.3 MB   | ###3       |  33% \n",
      "mkl-2020.1           | 99.3 MB   | ###3       |  33% \n",
      "mkl-2020.1           | 99.3 MB   | ###3       |  33% \n",
      "mkl-2020.1           | 99.3 MB   | ###3       |  33% \n",
      "mkl-2020.1           | 99.3 MB   | ###3       |  34% \n",
      "mkl-2020.1           | 99.3 MB   | ###3       |  34% \n",
      "mkl-2020.1           | 99.3 MB   | ###3       |  34% \n",
      "mkl-2020.1           | 99.3 MB   | ###3       |  34% \n",
      "mkl-2020.1           | 99.3 MB   | ###3       |  34% \n",
      "mkl-2020.1           | 99.3 MB   | ###4       |  34% \n",
      "mkl-2020.1           | 99.3 MB   | ###4       |  34% \n",
      "mkl-2020.1           | 99.3 MB   | ###4       |  34% \n",
      "mkl-2020.1           | 99.3 MB   | ###4       |  34% \n",
      "mkl-2020.1           | 99.3 MB   | ###4       |  34% \n",
      "mkl-2020.1           | 99.3 MB   | ###4       |  34% \n",
      "mkl-2020.1           | 99.3 MB   | ###4       |  34% \n",
      "mkl-2020.1           | 99.3 MB   | ###4       |  35% \n",
      "mkl-2020.1           | 99.3 MB   | ###4       |  35% \n",
      "mkl-2020.1           | 99.3 MB   | ###4       |  35% \n",
      "mkl-2020.1           | 99.3 MB   | ###4       |  35% \n",
      "mkl-2020.1           | 99.3 MB   | ###4       |  35% \n",
      "mkl-2020.1           | 99.3 MB   | ###4       |  35% \n",
      "mkl-2020.1           | 99.3 MB   | ###5       |  35% \n",
      "mkl-2020.1           | 99.3 MB   | ###5       |  35% \n",
      "mkl-2020.1           | 99.3 MB   | ###5       |  35% \n",
      "mkl-2020.1           | 99.3 MB   | ###5       |  35% \n",
      "mkl-2020.1           | 99.3 MB   | ###5       |  35% \n",
      "mkl-2020.1           | 99.3 MB   | ###5       |  36% \n",
      "mkl-2020.1           | 99.3 MB   | ###5       |  36% \n",
      "mkl-2020.1           | 99.3 MB   | ###5       |  36% \n",
      "mkl-2020.1           | 99.3 MB   | ###5       |  36% \n",
      "mkl-2020.1           | 99.3 MB   | ###6       |  36% \n",
      "mkl-2020.1           | 99.3 MB   | ###6       |  36% \n",
      "mkl-2020.1           | 99.3 MB   | ###6       |  36% \n",
      "mkl-2020.1           | 99.3 MB   | ###6       |  36% \n",
      "mkl-2020.1           | 99.3 MB   | ###6       |  36% \n",
      "mkl-2020.1           | 99.3 MB   | ###6       |  37% \n",
      "mkl-2020.1           | 99.3 MB   | ###6       |  37% \n",
      "mkl-2020.1           | 99.3 MB   | ###6       |  37% \n",
      "mkl-2020.1           | 99.3 MB   | ###6       |  37% \n",
      "mkl-2020.1           | 99.3 MB   | ###7       |  37% \n",
      "mkl-2020.1           | 99.3 MB   | ###7       |  37% \n",
      "mkl-2020.1           | 99.3 MB   | ###7       |  37% \n",
      "mkl-2020.1           | 99.3 MB   | ###7       |  37% \n",
      "mkl-2020.1           | 99.3 MB   | ###7       |  38% \n",
      "mkl-2020.1           | 99.3 MB   | ###7       |  38% \n",
      "mkl-2020.1           | 99.3 MB   | ###7       |  38% \n",
      "mkl-2020.1           | 99.3 MB   | ###7       |  38% \n",
      "mkl-2020.1           | 99.3 MB   | ###8       |  38% \n",
      "mkl-2020.1           | 99.3 MB   | ###8       |  38% \n",
      "mkl-2020.1           | 99.3 MB   | ###8       |  38% \n",
      "mkl-2020.1           | 99.3 MB   | ###8       |  38% \n",
      "mkl-2020.1           | 99.3 MB   | ###8       |  39% \n",
      "mkl-2020.1           | 99.3 MB   | ###8       |  39% \n",
      "mkl-2020.1           | 99.3 MB   | ###8       |  39% \n",
      "mkl-2020.1           | 99.3 MB   | ###8       |  39% \n",
      "mkl-2020.1           | 99.3 MB   | ###9       |  39% \n",
      "mkl-2020.1           | 99.3 MB   | ###9       |  39% \n",
      "mkl-2020.1           | 99.3 MB   | ###9       |  39% \n",
      "mkl-2020.1           | 99.3 MB   | ###9       |  39% \n",
      "mkl-2020.1           | 99.3 MB   | ###9       |  40% \n",
      "mkl-2020.1           | 99.3 MB   | ###9       |  40% \n",
      "mkl-2020.1           | 99.3 MB   | ###9       |  40% \n",
      "mkl-2020.1           | 99.3 MB   | ###9       |  40% \n",
      "mkl-2020.1           | 99.3 MB   | ###9       |  40% \n",
      "mkl-2020.1           | 99.3 MB   | ####       |  40% \n",
      "mkl-2020.1           | 99.3 MB   | ####       |  40% \n",
      "mkl-2020.1           | 99.3 MB   | ####       |  40% \n",
      "mkl-2020.1           | 99.3 MB   | ####       |  40% \n",
      "mkl-2020.1           | 99.3 MB   | ####       |  40% \n",
      "mkl-2020.1           | 99.3 MB   | ####       |  40% \n",
      "mkl-2020.1           | 99.3 MB   | ####       |  41% \n",
      "mkl-2020.1           | 99.3 MB   | ####       |  41% \n",
      "mkl-2020.1           | 99.3 MB   | ####       |  41% \n",
      "mkl-2020.1           | 99.3 MB   | ####       |  41% \n",
      "mkl-2020.1           | 99.3 MB   | ####       |  41% \n",
      "mkl-2020.1           | 99.3 MB   | ####       |  41% \n",
      "mkl-2020.1           | 99.3 MB   | ####1      |  41% \n",
      "mkl-2020.1           | 99.3 MB   | ####1      |  41% \n",
      "mkl-2020.1           | 99.3 MB   | ####1      |  41% \n",
      "mkl-2020.1           | 99.3 MB   | ####1      |  41% \n",
      "mkl-2020.1           | 99.3 MB   | ####1      |  41% \n",
      "mkl-2020.1           | 99.3 MB   | ####1      |  41% \n",
      "mkl-2020.1           | 99.3 MB   | ####1      |  41% \n",
      "mkl-2020.1           | 99.3 MB   | ####1      |  42% \n",
      "mkl-2020.1           | 99.3 MB   | ####1      |  42% \n",
      "mkl-2020.1           | 99.3 MB   | ####1      |  42% \n",
      "mkl-2020.1           | 99.3 MB   | ####1      |  42% \n",
      "mkl-2020.1           | 99.3 MB   | ####1      |  42% \n",
      "mkl-2020.1           | 99.3 MB   | ####2      |  42% \n",
      "mkl-2020.1           | 99.3 MB   | ####2      |  42% \n",
      "mkl-2020.1           | 99.3 MB   | ####2      |  42% \n",
      "mkl-2020.1           | 99.3 MB   | ####2      |  42% \n",
      "mkl-2020.1           | 99.3 MB   | ####2      |  42% \n",
      "mkl-2020.1           | 99.3 MB   | ####2      |  43% \n",
      "mkl-2020.1           | 99.3 MB   | ####2      |  43% \n",
      "mkl-2020.1           | 99.3 MB   | ####2      |  43% \n",
      "mkl-2020.1           | 99.3 MB   | ####2      |  43% \n",
      "mkl-2020.1           | 99.3 MB   | ####3      |  43% \n",
      "mkl-2020.1           | 99.3 MB   | ####3      |  43% \n",
      "mkl-2020.1           | 99.3 MB   | ####3      |  43% \n",
      "mkl-2020.1           | 99.3 MB   | ####3      |  43% \n",
      "mkl-2020.1           | 99.3 MB   | ####3      |  43% \n",
      "mkl-2020.1           | 99.3 MB   | ####3      |  44% \n",
      "mkl-2020.1           | 99.3 MB   | ####3      |  44% \n",
      "mkl-2020.1           | 99.3 MB   | ####3      |  44% \n",
      "mkl-2020.1           | 99.3 MB   | ####3      |  44% \n",
      "mkl-2020.1           | 99.3 MB   | ####3      |  44% \n",
      "mkl-2020.1           | 99.3 MB   | ####4      |  44% \n",
      "mkl-2020.1           | 99.3 MB   | ####4      |  44% \n",
      "mkl-2020.1           | 99.3 MB   | ####4      |  44% \n",
      "mkl-2020.1           | 99.3 MB   | ####4      |  44% \n",
      "mkl-2020.1           | 99.3 MB   | ####4      |  44% \n",
      "mkl-2020.1           | 99.3 MB   | ####4      |  44% \n",
      "mkl-2020.1           | 99.3 MB   | ####4      |  45% \n",
      "mkl-2020.1           | 99.3 MB   | ####4      |  45% \n",
      "mkl-2020.1           | 99.3 MB   | ####4      |  45% \n",
      "mkl-2020.1           | 99.3 MB   | ####4      |  45% \n",
      "mkl-2020.1           | 99.3 MB   | ####4      |  45% \n",
      "mkl-2020.1           | 99.3 MB   | ####4      |  45% \n",
      "mkl-2020.1           | 99.3 MB   | ####5      |  45% \n",
      "mkl-2020.1           | 99.3 MB   | ####5      |  45% \n",
      "mkl-2020.1           | 99.3 MB   | ####5      |  45% \n",
      "mkl-2020.1           | 99.3 MB   | ####5      |  45% \n",
      "mkl-2020.1           | 99.3 MB   | ####5      |  45% \n",
      "mkl-2020.1           | 99.3 MB   | ####5      |  46% \n",
      "mkl-2020.1           | 99.3 MB   | ####5      |  46% \n",
      "mkl-2020.1           | 99.3 MB   | ####5      |  46% \n",
      "mkl-2020.1           | 99.3 MB   | ####5      |  46% \n",
      "mkl-2020.1           | 99.3 MB   | ####5      |  46% \n",
      "mkl-2020.1           | 99.3 MB   | ####5      |  46% \n",
      "mkl-2020.1           | 99.3 MB   | ####6      |  46% \n",
      "mkl-2020.1           | 99.3 MB   | ####6      |  46% \n",
      "mkl-2020.1           | 99.3 MB   | ####6      |  46% \n",
      "mkl-2020.1           | 99.3 MB   | ####6      |  46% \n",
      "mkl-2020.1           | 99.3 MB   | ####6      |  46% \n",
      "mkl-2020.1           | 99.3 MB   | ####6      |  47% \n",
      "mkl-2020.1           | 99.3 MB   | ####6      |  47% \n",
      "mkl-2020.1           | 99.3 MB   | ####6      |  47% \n",
      "mkl-2020.1           | 99.3 MB   | ####6      |  47% \n",
      "mkl-2020.1           | 99.3 MB   | ####6      |  47% \n",
      "mkl-2020.1           | 99.3 MB   | ####6      |  47% \n",
      "mkl-2020.1           | 99.3 MB   | ####6      |  47% \n",
      "mkl-2020.1           | 99.3 MB   | ####7      |  47% \n",
      "mkl-2020.1           | 99.3 MB   | ####7      |  47% \n",
      "mkl-2020.1           | 99.3 MB   | ####7      |  47% \n",
      "mkl-2020.1           | 99.3 MB   | ####7      |  47% \n",
      "mkl-2020.1           | 99.3 MB   | ####7      |  47% \n",
      "mkl-2020.1           | 99.3 MB   | ####7      |  47% \n",
      "mkl-2020.1           | 99.3 MB   | ####7      |  47% \n",
      "mkl-2020.1           | 99.3 MB   | ####7      |  47% \n",
      "mkl-2020.1           | 99.3 MB   | ####7      |  47% \n",
      "mkl-2020.1           | 99.3 MB   | ####7      |  48% \n",
      "mkl-2020.1           | 99.3 MB   | ####7      |  48% \n",
      "mkl-2020.1           | 99.3 MB   | ####7      |  48% \n",
      "mkl-2020.1           | 99.3 MB   | ####7      |  48% \n",
      "mkl-2020.1           | 99.3 MB   | ####7      |  48% \n",
      "mkl-2020.1           | 99.3 MB   | ####7      |  48% \n",
      "mkl-2020.1           | 99.3 MB   | ####7      |  48% \n",
      "mkl-2020.1           | 99.3 MB   | ####8      |  48% \n",
      "mkl-2020.1           | 99.3 MB   | ####8      |  48% \n",
      "mkl-2020.1           | 99.3 MB   | ####8      |  48% \n",
      "mkl-2020.1           | 99.3 MB   | ####8      |  48% \n",
      "mkl-2020.1           | 99.3 MB   | ####8      |  48% \n",
      "mkl-2020.1           | 99.3 MB   | ####8      |  48% \n",
      "mkl-2020.1           | 99.3 MB   | ####8      |  49% \n",
      "mkl-2020.1           | 99.3 MB   | ####8      |  49% \n",
      "mkl-2020.1           | 99.3 MB   | ####8      |  49% \n",
      "mkl-2020.1           | 99.3 MB   | ####8      |  49% \n",
      "mkl-2020.1           | 99.3 MB   | ####8      |  49% \n",
      "mkl-2020.1           | 99.3 MB   | ####9      |  49% \n",
      "mkl-2020.1           | 99.3 MB   | ####9      |  49% \n",
      "mkl-2020.1           | 99.3 MB   | ####9      |  49% \n",
      "mkl-2020.1           | 99.3 MB   | ####9      |  49% \n",
      "mkl-2020.1           | 99.3 MB   | ####9      |  49% \n",
      "mkl-2020.1           | 99.3 MB   | ####9      |  49% \n",
      "mkl-2020.1           | 99.3 MB   | ####9      |  49% \n",
      "mkl-2020.1           | 99.3 MB   | ####9      |  50% \n",
      "mkl-2020.1           | 99.3 MB   | ####9      |  50% \n",
      "mkl-2020.1           | 99.3 MB   | ####9      |  50% \n",
      "mkl-2020.1           | 99.3 MB   | ####9      |  50% \n",
      "mkl-2020.1           | 99.3 MB   | ####9      |  50% \n",
      "mkl-2020.1           | 99.3 MB   | ####9      |  50% \n",
      "mkl-2020.1           | 99.3 MB   | #####      |  50% \n",
      "mkl-2020.1           | 99.3 MB   | #####      |  50% \n",
      "mkl-2020.1           | 99.3 MB   | #####      |  50% \n",
      "mkl-2020.1           | 99.3 MB   | #####      |  50% \n",
      "mkl-2020.1           | 99.3 MB   | #####      |  50% \n",
      "mkl-2020.1           | 99.3 MB   | #####      |  50% \n",
      "mkl-2020.1           | 99.3 MB   | #####      |  50% \n",
      "mkl-2020.1           | 99.3 MB   | #####      |  51% \n",
      "mkl-2020.1           | 99.3 MB   | #####      |  51% \n",
      "mkl-2020.1           | 99.3 MB   | #####      |  51% \n",
      "mkl-2020.1           | 99.3 MB   | #####      |  51% \n",
      "mkl-2020.1           | 99.3 MB   | #####1     |  51% \n",
      "mkl-2020.1           | 99.3 MB   | #####1     |  51% \n",
      "mkl-2020.1           | 99.3 MB   | #####1     |  51% \n",
      "mkl-2020.1           | 99.3 MB   | #####1     |  51% \n",
      "mkl-2020.1           | 99.3 MB   | #####1     |  51% \n",
      "mkl-2020.1           | 99.3 MB   | #####1     |  52% \n",
      "mkl-2020.1           | 99.3 MB   | #####1     |  52% \n",
      "mkl-2020.1           | 99.3 MB   | #####1     |  52% \n",
      "mkl-2020.1           | 99.3 MB   | #####1     |  52% \n",
      "mkl-2020.1           | 99.3 MB   | #####1     |  52% \n",
      "mkl-2020.1           | 99.3 MB   | #####1     |  52% \n",
      "mkl-2020.1           | 99.3 MB   | #####2     |  52% \n",
      "mkl-2020.1           | 99.3 MB   | #####2     |  52% \n",
      "mkl-2020.1           | 99.3 MB   | #####2     |  52% \n",
      "mkl-2020.1           | 99.3 MB   | #####2     |  52% \n",
      "mkl-2020.1           | 99.3 MB   | #####2     |  52% \n",
      "mkl-2020.1           | 99.3 MB   | #####2     |  53% \n",
      "mkl-2020.1           | 99.3 MB   | #####2     |  53% \n",
      "mkl-2020.1           | 99.3 MB   | #####2     |  53% \n",
      "mkl-2020.1           | 99.3 MB   | #####2     |  53% \n",
      "mkl-2020.1           | 99.3 MB   | #####2     |  53% \n",
      "mkl-2020.1           | 99.3 MB   | #####3     |  53% \n",
      "mkl-2020.1           | 99.3 MB   | #####3     |  53% \n",
      "mkl-2020.1           | 99.3 MB   | #####3     |  53% \n",
      "mkl-2020.1           | 99.3 MB   | #####3     |  53% \n",
      "mkl-2020.1           | 99.3 MB   | #####3     |  53% \n",
      "mkl-2020.1           | 99.3 MB   | #####3     |  53% \n",
      "mkl-2020.1           | 99.3 MB   | #####3     |  54% \n",
      "mkl-2020.1           | 99.3 MB   | #####3     |  54% \n",
      "mkl-2020.1           | 99.3 MB   | #####3     |  54% \n",
      "mkl-2020.1           | 99.3 MB   | #####3     |  54% \n",
      "mkl-2020.1           | 99.3 MB   | #####3     |  54% \n",
      "mkl-2020.1           | 99.3 MB   | #####3     |  54% \n",
      "mkl-2020.1           | 99.3 MB   | #####4     |  54% \n",
      "mkl-2020.1           | 99.3 MB   | #####4     |  54% \n",
      "mkl-2020.1           | 99.3 MB   | #####4     |  54% \n",
      "mkl-2020.1           | 99.3 MB   | #####4     |  54% \n",
      "mkl-2020.1           | 99.3 MB   | #####4     |  55% \n",
      "mkl-2020.1           | 99.3 MB   | #####4     |  55% \n",
      "mkl-2020.1           | 99.3 MB   | #####4     |  55% \n",
      "mkl-2020.1           | 99.3 MB   | #####4     |  55% \n",
      "mkl-2020.1           | 99.3 MB   | #####5     |  55% \n",
      "mkl-2020.1           | 99.3 MB   | #####5     |  55% \n",
      "mkl-2020.1           | 99.3 MB   | #####5     |  55% \n",
      "mkl-2020.1           | 99.3 MB   | #####5     |  55% \n",
      "mkl-2020.1           | 99.3 MB   | #####5     |  55% \n",
      "mkl-2020.1           | 99.3 MB   | #####5     |  56% \n",
      "mkl-2020.1           | 99.3 MB   | #####5     |  56% \n",
      "mkl-2020.1           | 99.3 MB   | #####5     |  56% \n",
      "mkl-2020.1           | 99.3 MB   | #####5     |  56% \n",
      "mkl-2020.1           | 99.3 MB   | #####6     |  56% \n",
      "mkl-2020.1           | 99.3 MB   | #####6     |  56% \n",
      "mkl-2020.1           | 99.3 MB   | #####6     |  56% \n",
      "mkl-2020.1           | 99.3 MB   | #####6     |  56% \n",
      "mkl-2020.1           | 99.3 MB   | #####6     |  56% \n",
      "mkl-2020.1           | 99.3 MB   | #####6     |  56% \n",
      "mkl-2020.1           | 99.3 MB   | #####6     |  57% \n",
      "mkl-2020.1           | 99.3 MB   | #####6     |  57% \n",
      "mkl-2020.1           | 99.3 MB   | #####6     |  57% \n",
      "mkl-2020.1           | 99.3 MB   | #####6     |  57% \n",
      "mkl-2020.1           | 99.3 MB   | #####6     |  57% \n",
      "mkl-2020.1           | 99.3 MB   | #####6     |  57% \n",
      "mkl-2020.1           | 99.3 MB   | #####7     |  57% \n",
      "mkl-2020.1           | 99.3 MB   | #####7     |  57% \n",
      "mkl-2020.1           | 99.3 MB   | #####7     |  57% \n",
      "mkl-2020.1           | 99.3 MB   | #####7     |  57% \n",
      "mkl-2020.1           | 99.3 MB   | #####7     |  57% \n",
      "mkl-2020.1           | 99.3 MB   | #####7     |  57% \n",
      "mkl-2020.1           | 99.3 MB   | #####7     |  58% \n",
      "mkl-2020.1           | 99.3 MB   | #####7     |  58% \n",
      "mkl-2020.1           | 99.3 MB   | #####7     |  58% \n",
      "mkl-2020.1           | 99.3 MB   | #####7     |  58% \n",
      "mkl-2020.1           | 99.3 MB   | #####7     |  58% \n",
      "mkl-2020.1           | 99.3 MB   | #####8     |  58% \n",
      "mkl-2020.1           | 99.3 MB   | #####8     |  58% \n",
      "mkl-2020.1           | 99.3 MB   | #####8     |  58% \n",
      "mkl-2020.1           | 99.3 MB   | #####8     |  58% \n",
      "mkl-2020.1           | 99.3 MB   | #####8     |  59% \n",
      "mkl-2020.1           | 99.3 MB   | #####8     |  59% \n",
      "mkl-2020.1           | 99.3 MB   | #####8     |  59% \n",
      "mkl-2020.1           | 99.3 MB   | #####8     |  59% \n",
      "mkl-2020.1           | 99.3 MB   | #####9     |  59% \n",
      "mkl-2020.1           | 99.3 MB   | #####9     |  59% \n",
      "mkl-2020.1           | 99.3 MB   | #####9     |  59% \n",
      "mkl-2020.1           | 99.3 MB   | #####9     |  59% \n",
      "mkl-2020.1           | 99.3 MB   | #####9     |  60% \n",
      "mkl-2020.1           | 99.3 MB   | #####9     |  60% \n",
      "mkl-2020.1           | 99.3 MB   | #####9     |  60% \n",
      "mkl-2020.1           | 99.3 MB   | #####9     |  60% \n",
      "mkl-2020.1           | 99.3 MB   | #####9     |  60% \n",
      "mkl-2020.1           | 99.3 MB   | ######     |  60% \n",
      "mkl-2020.1           | 99.3 MB   | ######     |  60% \n",
      "mkl-2020.1           | 99.3 MB   | ######     |  60% \n",
      "mkl-2020.1           | 99.3 MB   | ######     |  61% \n",
      "mkl-2020.1           | 99.3 MB   | ######     |  61% \n",
      "mkl-2020.1           | 99.3 MB   | ######     |  61% \n",
      "mkl-2020.1           | 99.3 MB   | ######     |  61% \n",
      "mkl-2020.1           | 99.3 MB   | ######     |  61% \n",
      "mkl-2020.1           | 99.3 MB   | ######     |  61% \n",
      "mkl-2020.1           | 99.3 MB   | ######1    |  61% \n",
      "mkl-2020.1           | 99.3 MB   | ######1    |  61% \n",
      "mkl-2020.1           | 99.3 MB   | ######1    |  61% \n",
      "mkl-2020.1           | 99.3 MB   | ######1    |  61% \n",
      "mkl-2020.1           | 99.3 MB   | ######1    |  61% \n",
      "mkl-2020.1           | 99.3 MB   | ######1    |  61% \n",
      "mkl-2020.1           | 99.3 MB   | ######1    |  62% \n",
      "mkl-2020.1           | 99.3 MB   | ######1    |  62% \n",
      "mkl-2020.1           | 99.3 MB   | ######1    |  62% \n",
      "mkl-2020.1           | 99.3 MB   | ######1    |  62% \n",
      "mkl-2020.1           | 99.3 MB   | ######1    |  62% \n",
      "mkl-2020.1           | 99.3 MB   | ######1    |  62% \n",
      "mkl-2020.1           | 99.3 MB   | ######1    |  62% \n",
      "mkl-2020.1           | 99.3 MB   | ######2    |  62% \n",
      "mkl-2020.1           | 99.3 MB   | ######2    |  62% \n",
      "mkl-2020.1           | 99.3 MB   | ######2    |  62% \n",
      "mkl-2020.1           | 99.3 MB   | ######2    |  62% \n",
      "mkl-2020.1           | 99.3 MB   | ######2    |  62% \n",
      "mkl-2020.1           | 99.3 MB   | ######2    |  62% \n",
      "mkl-2020.1           | 99.3 MB   | ######2    |  63% \n",
      "mkl-2020.1           | 99.3 MB   | ######2    |  63% \n",
      "mkl-2020.1           | 99.3 MB   | ######2    |  63% \n",
      "mkl-2020.1           | 99.3 MB   | ######2    |  63% \n",
      "mkl-2020.1           | 99.3 MB   | ######2    |  63% \n",
      "mkl-2020.1           | 99.3 MB   | ######2    |  63% \n",
      "mkl-2020.1           | 99.3 MB   | ######2    |  63% \n",
      "mkl-2020.1           | 99.3 MB   | ######3    |  63% \n",
      "mkl-2020.1           | 99.3 MB   | ######3    |  63% \n",
      "mkl-2020.1           | 99.3 MB   | ######3    |  63% \n",
      "mkl-2020.1           | 99.3 MB   | ######3    |  63% \n",
      "mkl-2020.1           | 99.3 MB   | ######3    |  63% \n",
      "mkl-2020.1           | 99.3 MB   | ######3    |  63% \n",
      "mkl-2020.1           | 99.3 MB   | ######3    |  63% \n",
      "mkl-2020.1           | 99.3 MB   | ######3    |  63% \n",
      "mkl-2020.1           | 99.3 MB   | ######3    |  64% \n",
      "mkl-2020.1           | 99.3 MB   | ######3    |  64% \n",
      "mkl-2020.1           | 99.3 MB   | ######3    |  64% \n",
      "mkl-2020.1           | 99.3 MB   | ######3    |  64% \n",
      "mkl-2020.1           | 99.3 MB   | ######3    |  64% \n",
      "mkl-2020.1           | 99.3 MB   | ######3    |  64% \n",
      "mkl-2020.1           | 99.3 MB   | ######3    |  64% \n",
      "mkl-2020.1           | 99.3 MB   | ######3    |  64% \n",
      "mkl-2020.1           | 99.3 MB   | ######4    |  64% \n",
      "mkl-2020.1           | 99.3 MB   | ######4    |  64% \n",
      "mkl-2020.1           | 99.3 MB   | ######4    |  64% \n",
      "mkl-2020.1           | 99.3 MB   | ######4    |  64% \n",
      "mkl-2020.1           | 99.3 MB   | ######4    |  64% \n",
      "mkl-2020.1           | 99.3 MB   | ######4    |  64% \n",
      "mkl-2020.1           | 99.3 MB   | ######4    |  64% \n",
      "mkl-2020.1           | 99.3 MB   | ######4    |  65% \n",
      "mkl-2020.1           | 99.3 MB   | ######4    |  65% \n",
      "mkl-2020.1           | 99.3 MB   | ######4    |  65% \n",
      "mkl-2020.1           | 99.3 MB   | ######4    |  65% \n",
      "mkl-2020.1           | 99.3 MB   | ######4    |  65% \n",
      "mkl-2020.1           | 99.3 MB   | ######4    |  65% \n",
      "mkl-2020.1           | 99.3 MB   | ######5    |  65% \n",
      "mkl-2020.1           | 99.3 MB   | ######5    |  65% \n",
      "mkl-2020.1           | 99.3 MB   | ######5    |  65% \n",
      "mkl-2020.1           | 99.3 MB   | ######5    |  65% \n",
      "mkl-2020.1           | 99.3 MB   | ######5    |  65% \n",
      "mkl-2020.1           | 99.3 MB   | ######5    |  65% \n",
      "mkl-2020.1           | 99.3 MB   | ######5    |  65% \n",
      "mkl-2020.1           | 99.3 MB   | ######5    |  66% \n",
      "mkl-2020.1           | 99.3 MB   | ######5    |  66% \n",
      "mkl-2020.1           | 99.3 MB   | ######5    |  66% \n",
      "mkl-2020.1           | 99.3 MB   | ######5    |  66% \n",
      "mkl-2020.1           | 99.3 MB   | ######5    |  66% \n",
      "mkl-2020.1           | 99.3 MB   | ######5    |  66% \n",
      "mkl-2020.1           | 99.3 MB   | ######6    |  66% \n",
      "mkl-2020.1           | 99.3 MB   | ######6    |  66% \n",
      "mkl-2020.1           | 99.3 MB   | ######6    |  66% \n",
      "mkl-2020.1           | 99.3 MB   | ######6    |  66% \n",
      "mkl-2020.1           | 99.3 MB   | ######6    |  66% \n",
      "mkl-2020.1           | 99.3 MB   | ######6    |  66% \n",
      "mkl-2020.1           | 99.3 MB   | ######6    |  67% \n",
      "mkl-2020.1           | 99.3 MB   | ######6    |  67% \n",
      "mkl-2020.1           | 99.3 MB   | ######6    |  67% \n",
      "mkl-2020.1           | 99.3 MB   | ######6    |  67% \n",
      "mkl-2020.1           | 99.3 MB   | ######6    |  67% \n",
      "mkl-2020.1           | 99.3 MB   | ######6    |  67% \n",
      "mkl-2020.1           | 99.3 MB   | ######6    |  67% \n",
      "mkl-2020.1           | 99.3 MB   | ######7    |  67% \n",
      "mkl-2020.1           | 99.3 MB   | ######7    |  67% \n",
      "mkl-2020.1           | 99.3 MB   | ######7    |  67% \n",
      "mkl-2020.1           | 99.3 MB   | ######7    |  67% \n",
      "mkl-2020.1           | 99.3 MB   | ######7    |  67% \n",
      "mkl-2020.1           | 99.3 MB   | ######7    |  67% \n",
      "mkl-2020.1           | 99.3 MB   | ######7    |  67% \n",
      "mkl-2020.1           | 99.3 MB   | ######7    |  67% \n",
      "mkl-2020.1           | 99.3 MB   | ######7    |  67% \n",
      "mkl-2020.1           | 99.3 MB   | ######7    |  68% \n",
      "mkl-2020.1           | 99.3 MB   | ######7    |  68% \n",
      "mkl-2020.1           | 99.3 MB   | ######7    |  68% \n",
      "mkl-2020.1           | 99.3 MB   | ######7    |  68% \n",
      "mkl-2020.1           | 99.3 MB   | ######7    |  68% \n",
      "mkl-2020.1           | 99.3 MB   | ######7    |  68% \n",
      "mkl-2020.1           | 99.3 MB   | ######7    |  68% \n",
      "mkl-2020.1           | 99.3 MB   | ######7    |  68% \n",
      "mkl-2020.1           | 99.3 MB   | ######8    |  68% \n",
      "mkl-2020.1           | 99.3 MB   | ######8    |  68% \n",
      "mkl-2020.1           | 99.3 MB   | ######8    |  68% \n",
      "mkl-2020.1           | 99.3 MB   | ######8    |  68% \n",
      "mkl-2020.1           | 99.3 MB   | ######8    |  68% \n",
      "mkl-2020.1           | 99.3 MB   | ######8    |  68% \n",
      "mkl-2020.1           | 99.3 MB   | ######8    |  68% \n",
      "mkl-2020.1           | 99.3 MB   | ######8    |  68% \n",
      "mkl-2020.1           | 99.3 MB   | ######8    |  69% \n",
      "mkl-2020.1           | 99.3 MB   | ######8    |  69% \n",
      "mkl-2020.1           | 99.3 MB   | ######8    |  69% \n",
      "mkl-2020.1           | 99.3 MB   | ######8    |  69% \n",
      "mkl-2020.1           | 99.3 MB   | ######8    |  69% \n",
      "mkl-2020.1           | 99.3 MB   | ######8    |  69% \n",
      "mkl-2020.1           | 99.3 MB   | ######8    |  69% \n",
      "mkl-2020.1           | 99.3 MB   | ######9    |  69% \n",
      "mkl-2020.1           | 99.3 MB   | ######9    |  69% \n",
      "mkl-2020.1           | 99.3 MB   | ######9    |  69% \n",
      "mkl-2020.1           | 99.3 MB   | ######9    |  69% \n",
      "mkl-2020.1           | 99.3 MB   | ######9    |  69% \n",
      "mkl-2020.1           | 99.3 MB   | ######9    |  69% \n",
      "mkl-2020.1           | 99.3 MB   | ######9    |  69% \n",
      "mkl-2020.1           | 99.3 MB   | ######9    |  70% \n",
      "mkl-2020.1           | 99.3 MB   | ######9    |  70% \n",
      "mkl-2020.1           | 99.3 MB   | ######9    |  70% \n",
      "mkl-2020.1           | 99.3 MB   | ######9    |  70% \n",
      "mkl-2020.1           | 99.3 MB   | ######9    |  70% \n",
      "mkl-2020.1           | 99.3 MB   | ######9    |  70% \n",
      "mkl-2020.1           | 99.3 MB   | #######    |  70% \n",
      "mkl-2020.1           | 99.3 MB   | #######    |  70% \n",
      "mkl-2020.1           | 99.3 MB   | #######    |  70% \n",
      "mkl-2020.1           | 99.3 MB   | #######    |  70% \n",
      "mkl-2020.1           | 99.3 MB   | #######    |  70% \n",
      "mkl-2020.1           | 99.3 MB   | #######    |  70% \n",
      "mkl-2020.1           | 99.3 MB   | #######    |  71% \n",
      "mkl-2020.1           | 99.3 MB   | #######    |  71% \n",
      "mkl-2020.1           | 99.3 MB   | #######    |  71% \n",
      "mkl-2020.1           | 99.3 MB   | #######    |  71% \n",
      "mkl-2020.1           | 99.3 MB   | #######    |  71% \n",
      "mkl-2020.1           | 99.3 MB   | #######    |  71% \n",
      "mkl-2020.1           | 99.3 MB   | #######    |  71% \n",
      "mkl-2020.1           | 99.3 MB   | #######1   |  71% \n",
      "mkl-2020.1           | 99.3 MB   | #######1   |  71% \n",
      "mkl-2020.1           | 99.3 MB   | #######1   |  71% \n",
      "mkl-2020.1           | 99.3 MB   | #######1   |  71% \n",
      "mkl-2020.1           | 99.3 MB   | #######1   |  71% \n",
      "mkl-2020.1           | 99.3 MB   | #######1   |  71% \n",
      "mkl-2020.1           | 99.3 MB   | #######1   |  71% \n",
      "mkl-2020.1           | 99.3 MB   | #######1   |  71% \n",
      "mkl-2020.1           | 99.3 MB   | #######1   |  72% \n",
      "mkl-2020.1           | 99.3 MB   | #######1   |  72% \n",
      "mkl-2020.1           | 99.3 MB   | #######1   |  72% \n",
      "mkl-2020.1           | 99.3 MB   | #######1   |  72% \n",
      "mkl-2020.1           | 99.3 MB   | #######1   |  72% \n",
      "mkl-2020.1           | 99.3 MB   | #######1   |  72% \n",
      "mkl-2020.1           | 99.3 MB   | #######1   |  72% \n",
      "mkl-2020.1           | 99.3 MB   | #######2   |  72% \n",
      "mkl-2020.1           | 99.3 MB   | #######2   |  72% \n",
      "mkl-2020.1           | 99.3 MB   | #######2   |  72% \n",
      "mkl-2020.1           | 99.3 MB   | #######2   |  72% \n",
      "mkl-2020.1           | 99.3 MB   | #######2   |  72% \n",
      "mkl-2020.1           | 99.3 MB   | #######2   |  72% \n",
      "mkl-2020.1           | 99.3 MB   | #######2   |  73% \n",
      "mkl-2020.1           | 99.3 MB   | #######2   |  73% \n",
      "mkl-2020.1           | 99.3 MB   | #######2   |  73% \n",
      "mkl-2020.1           | 99.3 MB   | #######2   |  73% \n",
      "mkl-2020.1           | 99.3 MB   | #######2   |  73% \n",
      "mkl-2020.1           | 99.3 MB   | #######2   |  73% \n",
      "mkl-2020.1           | 99.3 MB   | #######2   |  73% \n",
      "mkl-2020.1           | 99.3 MB   | #######3   |  73% \n",
      "mkl-2020.1           | 99.3 MB   | #######3   |  73% \n",
      "mkl-2020.1           | 99.3 MB   | #######3   |  73% \n",
      "mkl-2020.1           | 99.3 MB   | #######3   |  73% \n",
      "mkl-2020.1           | 99.3 MB   | #######3   |  73% \n",
      "mkl-2020.1           | 99.3 MB   | #######3   |  73% \n",
      "mkl-2020.1           | 99.3 MB   | #######3   |  73% \n",
      "mkl-2020.1           | 99.3 MB   | #######3   |  74% \n",
      "mkl-2020.1           | 99.3 MB   | #######3   |  74% \n",
      "mkl-2020.1           | 99.3 MB   | #######3   |  74% \n",
      "mkl-2020.1           | 99.3 MB   | #######3   |  74% \n",
      "mkl-2020.1           | 99.3 MB   | #######3   |  74% \n",
      "mkl-2020.1           | 99.3 MB   | #######3   |  74% \n",
      "mkl-2020.1           | 99.3 MB   | #######3   |  74% \n",
      "mkl-2020.1           | 99.3 MB   | #######3   |  74% \n",
      "mkl-2020.1           | 99.3 MB   | #######4   |  74% \n",
      "mkl-2020.1           | 99.3 MB   | #######4   |  74% \n"
     ]
    },
    {
     "name": "stdout",
     "output_type": "stream",
     "text": [
      "mkl-2020.1           | 99.3 MB   | #######4   |  74% \n",
      "mkl-2020.1           | 99.3 MB   | #######4   |  74% \n",
      "mkl-2020.1           | 99.3 MB   | #######4   |  74% \n",
      "mkl-2020.1           | 99.3 MB   | #######4   |  74% \n",
      "mkl-2020.1           | 99.3 MB   | #######4   |  74% \n",
      "mkl-2020.1           | 99.3 MB   | #######4   |  74% \n",
      "mkl-2020.1           | 99.3 MB   | #######4   |  74% \n",
      "mkl-2020.1           | 99.3 MB   | #######4   |  75% \n",
      "mkl-2020.1           | 99.3 MB   | #######4   |  75% \n",
      "mkl-2020.1           | 99.3 MB   | #######4   |  75% \n",
      "mkl-2020.1           | 99.3 MB   | #######4   |  75% \n",
      "mkl-2020.1           | 99.3 MB   | #######4   |  75% \n",
      "mkl-2020.1           | 99.3 MB   | #######4   |  75% \n",
      "mkl-2020.1           | 99.3 MB   | #######4   |  75% \n",
      "mkl-2020.1           | 99.3 MB   | #######4   |  75% \n",
      "mkl-2020.1           | 99.3 MB   | #######4   |  75% \n",
      "mkl-2020.1           | 99.3 MB   | #######5   |  75% \n",
      "mkl-2020.1           | 99.3 MB   | #######5   |  75% \n",
      "mkl-2020.1           | 99.3 MB   | #######5   |  75% \n",
      "mkl-2020.1           | 99.3 MB   | #######5   |  75% \n",
      "mkl-2020.1           | 99.3 MB   | #######5   |  75% \n",
      "mkl-2020.1           | 99.3 MB   | #######5   |  75% \n",
      "mkl-2020.1           | 99.3 MB   | #######5   |  75% \n",
      "mkl-2020.1           | 99.3 MB   | #######5   |  76% \n",
      "mkl-2020.1           | 99.3 MB   | #######5   |  76% \n",
      "mkl-2020.1           | 99.3 MB   | #######5   |  76% \n",
      "mkl-2020.1           | 99.3 MB   | #######5   |  76% \n",
      "mkl-2020.1           | 99.3 MB   | #######5   |  76% \n",
      "mkl-2020.1           | 99.3 MB   | #######5   |  76% \n",
      "mkl-2020.1           | 99.3 MB   | #######6   |  76% \n",
      "mkl-2020.1           | 99.3 MB   | #######6   |  76% \n",
      "mkl-2020.1           | 99.3 MB   | #######6   |  76% \n",
      "mkl-2020.1           | 99.3 MB   | #######6   |  76% \n",
      "mkl-2020.1           | 99.3 MB   | #######6   |  76% \n",
      "mkl-2020.1           | 99.3 MB   | #######6   |  76% \n",
      "mkl-2020.1           | 99.3 MB   | #######6   |  76% \n",
      "mkl-2020.1           | 99.3 MB   | #######6   |  77% \n",
      "mkl-2020.1           | 99.3 MB   | #######6   |  77% \n",
      "mkl-2020.1           | 99.3 MB   | #######6   |  77% \n",
      "mkl-2020.1           | 99.3 MB   | #######6   |  77% \n",
      "mkl-2020.1           | 99.3 MB   | #######6   |  77% \n",
      "mkl-2020.1           | 99.3 MB   | #######6   |  77% \n",
      "mkl-2020.1           | 99.3 MB   | #######6   |  77% \n",
      "mkl-2020.1           | 99.3 MB   | #######6   |  77% \n",
      "mkl-2020.1           | 99.3 MB   | #######7   |  77% \n",
      "mkl-2020.1           | 99.3 MB   | #######7   |  77% \n",
      "mkl-2020.1           | 99.3 MB   | #######7   |  77% \n",
      "mkl-2020.1           | 99.3 MB   | #######7   |  77% \n",
      "mkl-2020.1           | 99.3 MB   | #######7   |  77% \n",
      "mkl-2020.1           | 99.3 MB   | #######7   |  77% \n",
      "mkl-2020.1           | 99.3 MB   | #######7   |  77% \n",
      "mkl-2020.1           | 99.3 MB   | #######7   |  78% \n",
      "mkl-2020.1           | 99.3 MB   | #######7   |  78% \n",
      "mkl-2020.1           | 99.3 MB   | #######7   |  78% \n",
      "mkl-2020.1           | 99.3 MB   | #######7   |  78% \n",
      "mkl-2020.1           | 99.3 MB   | #######7   |  78% \n",
      "mkl-2020.1           | 99.3 MB   | #######7   |  78% \n",
      "mkl-2020.1           | 99.3 MB   | #######8   |  78% \n",
      "mkl-2020.1           | 99.3 MB   | #######8   |  78% \n",
      "mkl-2020.1           | 99.3 MB   | #######8   |  78% \n",
      "mkl-2020.1           | 99.3 MB   | #######8   |  78% \n",
      "mkl-2020.1           | 99.3 MB   | #######8   |  78% \n",
      "mkl-2020.1           | 99.3 MB   | #######8   |  78% \n",
      "mkl-2020.1           | 99.3 MB   | #######8   |  79% \n",
      "mkl-2020.1           | 99.3 MB   | #######8   |  79% \n",
      "mkl-2020.1           | 99.3 MB   | #######8   |  79% \n",
      "mkl-2020.1           | 99.3 MB   | #######8   |  79% \n",
      "mkl-2020.1           | 99.3 MB   | #######8   |  79% \n",
      "mkl-2020.1           | 99.3 MB   | #######8   |  79% \n",
      "mkl-2020.1           | 99.3 MB   | #######9   |  79% \n",
      "mkl-2020.1           | 99.3 MB   | #######9   |  79% \n",
      "mkl-2020.1           | 99.3 MB   | #######9   |  79% \n",
      "mkl-2020.1           | 99.3 MB   | #######9   |  79% \n",
      "mkl-2020.1           | 99.3 MB   | #######9   |  79% \n",
      "mkl-2020.1           | 99.3 MB   | #######9   |  80% \n",
      "mkl-2020.1           | 99.3 MB   | #######9   |  80% \n",
      "mkl-2020.1           | 99.3 MB   | #######9   |  80% \n",
      "mkl-2020.1           | 99.3 MB   | #######9   |  80% \n",
      "mkl-2020.1           | 99.3 MB   | #######9   |  80% \n",
      "mkl-2020.1           | 99.3 MB   | ########   |  80% \n",
      "mkl-2020.1           | 99.3 MB   | ########   |  80% \n",
      "mkl-2020.1           | 99.3 MB   | ########   |  80% \n",
      "mkl-2020.1           | 99.3 MB   | ########   |  80% \n",
      "mkl-2020.1           | 99.3 MB   | ########   |  81% \n",
      "mkl-2020.1           | 99.3 MB   | ########   |  81% \n",
      "mkl-2020.1           | 99.3 MB   | ########   |  81% \n",
      "mkl-2020.1           | 99.3 MB   | ########   |  81% \n",
      "mkl-2020.1           | 99.3 MB   | ########   |  81% \n",
      "mkl-2020.1           | 99.3 MB   | ########   |  81% \n",
      "mkl-2020.1           | 99.3 MB   | ########   |  81% \n",
      "mkl-2020.1           | 99.3 MB   | ########1  |  81% \n",
      "mkl-2020.1           | 99.3 MB   | ########1  |  81% \n",
      "mkl-2020.1           | 99.3 MB   | ########1  |  81% \n",
      "mkl-2020.1           | 99.3 MB   | ########1  |  81% \n",
      "mkl-2020.1           | 99.3 MB   | ########1  |  81% \n",
      "mkl-2020.1           | 99.3 MB   | ########1  |  81% \n",
      "mkl-2020.1           | 99.3 MB   | ########1  |  82% \n",
      "mkl-2020.1           | 99.3 MB   | ########1  |  82% \n",
      "mkl-2020.1           | 99.3 MB   | ########1  |  82% \n",
      "mkl-2020.1           | 99.3 MB   | ########1  |  82% \n",
      "mkl-2020.1           | 99.3 MB   | ########2  |  82% \n",
      "mkl-2020.1           | 99.3 MB   | ########2  |  82% \n",
      "mkl-2020.1           | 99.3 MB   | ########2  |  82% \n",
      "mkl-2020.1           | 99.3 MB   | ########2  |  82% \n",
      "mkl-2020.1           | 99.3 MB   | ########2  |  82% \n",
      "mkl-2020.1           | 99.3 MB   | ########2  |  83% \n",
      "mkl-2020.1           | 99.3 MB   | ########2  |  83% \n",
      "mkl-2020.1           | 99.3 MB   | ########2  |  83% \n",
      "mkl-2020.1           | 99.3 MB   | ########2  |  83% \n",
      "mkl-2020.1           | 99.3 MB   | ########3  |  83% \n",
      "mkl-2020.1           | 99.3 MB   | ########3  |  83% \n",
      "mkl-2020.1           | 99.3 MB   | ########3  |  83% \n",
      "mkl-2020.1           | 99.3 MB   | ########3  |  83% \n",
      "mkl-2020.1           | 99.3 MB   | ########3  |  83% \n",
      "mkl-2020.1           | 99.3 MB   | ########3  |  83% \n",
      "mkl-2020.1           | 99.3 MB   | ########3  |  84% \n",
      "mkl-2020.1           | 99.3 MB   | ########3  |  84% \n",
      "mkl-2020.1           | 99.3 MB   | ########3  |  84% \n",
      "mkl-2020.1           | 99.3 MB   | ########3  |  84% \n",
      "mkl-2020.1           | 99.3 MB   | ########3  |  84% \n",
      "mkl-2020.1           | 99.3 MB   | ########3  |  84% \n",
      "mkl-2020.1           | 99.3 MB   | ########3  |  84% \n",
      "mkl-2020.1           | 99.3 MB   | ########3  |  84% \n",
      "mkl-2020.1           | 99.3 MB   | ########4  |  84% \n",
      "mkl-2020.1           | 99.3 MB   | ########4  |  84% \n",
      "mkl-2020.1           | 99.3 MB   | ########4  |  84% \n",
      "mkl-2020.1           | 99.3 MB   | ########4  |  84% \n",
      "mkl-2020.1           | 99.3 MB   | ########4  |  84% \n",
      "mkl-2020.1           | 99.3 MB   | ########4  |  84% \n",
      "mkl-2020.1           | 99.3 MB   | ########4  |  84% \n",
      "mkl-2020.1           | 99.3 MB   | ########4  |  84% \n",
      "mkl-2020.1           | 99.3 MB   | ########4  |  84% \n",
      "mkl-2020.1           | 99.3 MB   | ########4  |  84% \n",
      "mkl-2020.1           | 99.3 MB   | ########4  |  85% \n",
      "mkl-2020.1           | 99.3 MB   | ########4  |  85% \n",
      "mkl-2020.1           | 99.3 MB   | ########4  |  85% \n",
      "mkl-2020.1           | 99.3 MB   | ########4  |  85% \n",
      "mkl-2020.1           | 99.3 MB   | ########4  |  85% \n",
      "mkl-2020.1           | 99.3 MB   | ########4  |  85% \n",
      "mkl-2020.1           | 99.3 MB   | ########4  |  85% \n",
      "mkl-2020.1           | 99.3 MB   | ########4  |  85% \n",
      "mkl-2020.1           | 99.3 MB   | ########4  |  85% \n",
      "mkl-2020.1           | 99.3 MB   | ########4  |  85% \n",
      "mkl-2020.1           | 99.3 MB   | ########5  |  85% \n",
      "mkl-2020.1           | 99.3 MB   | ########5  |  85% \n",
      "mkl-2020.1           | 99.3 MB   | ########5  |  85% \n",
      "mkl-2020.1           | 99.3 MB   | ########5  |  85% \n",
      "mkl-2020.1           | 99.3 MB   | ########5  |  85% \n",
      "mkl-2020.1           | 99.3 MB   | ########5  |  85% \n",
      "mkl-2020.1           | 99.3 MB   | ########5  |  85% \n",
      "mkl-2020.1           | 99.3 MB   | ########5  |  85% \n",
      "mkl-2020.1           | 99.3 MB   | ########5  |  85% \n",
      "mkl-2020.1           | 99.3 MB   | ########5  |  86% \n",
      "mkl-2020.1           | 99.3 MB   | ########5  |  86% \n",
      "mkl-2020.1           | 99.3 MB   | ########5  |  86% \n",
      "mkl-2020.1           | 99.3 MB   | ########5  |  86% \n",
      "mkl-2020.1           | 99.3 MB   | ########5  |  86% \n",
      "mkl-2020.1           | 99.3 MB   | ########5  |  86% \n",
      "mkl-2020.1           | 99.3 MB   | ########6  |  86% \n",
      "mkl-2020.1           | 99.3 MB   | ########6  |  86% \n",
      "mkl-2020.1           | 99.3 MB   | ########6  |  86% \n",
      "mkl-2020.1           | 99.3 MB   | ########6  |  86% \n",
      "mkl-2020.1           | 99.3 MB   | ########6  |  86% \n",
      "mkl-2020.1           | 99.3 MB   | ########6  |  86% \n",
      "mkl-2020.1           | 99.3 MB   | ########6  |  87% \n",
      "mkl-2020.1           | 99.3 MB   | ########6  |  87% \n",
      "mkl-2020.1           | 99.3 MB   | ########6  |  87% \n",
      "mkl-2020.1           | 99.3 MB   | ########6  |  87% \n",
      "mkl-2020.1           | 99.3 MB   | ########6  |  87% \n",
      "mkl-2020.1           | 99.3 MB   | ########6  |  87% \n",
      "mkl-2020.1           | 99.3 MB   | ########7  |  87% \n",
      "mkl-2020.1           | 99.3 MB   | ########7  |  87% \n",
      "mkl-2020.1           | 99.3 MB   | ########7  |  87% \n",
      "mkl-2020.1           | 99.3 MB   | ########7  |  87% \n",
      "mkl-2020.1           | 99.3 MB   | ########7  |  87% \n",
      "mkl-2020.1           | 99.3 MB   | ########7  |  87% \n",
      "mkl-2020.1           | 99.3 MB   | ########7  |  88% \n",
      "mkl-2020.1           | 99.3 MB   | ########7  |  88% \n",
      "mkl-2020.1           | 99.3 MB   | ########7  |  88% \n",
      "mkl-2020.1           | 99.3 MB   | ########7  |  88% \n",
      "mkl-2020.1           | 99.3 MB   | ########7  |  88% \n",
      "mkl-2020.1           | 99.3 MB   | ########7  |  88% \n",
      "mkl-2020.1           | 99.3 MB   | ########8  |  88% \n",
      "mkl-2020.1           | 99.3 MB   | ########8  |  88% \n",
      "mkl-2020.1           | 99.3 MB   | ########8  |  88% \n",
      "mkl-2020.1           | 99.3 MB   | ########8  |  88% \n",
      "mkl-2020.1           | 99.3 MB   | ########8  |  88% \n",
      "mkl-2020.1           | 99.3 MB   | ########8  |  88% \n",
      "mkl-2020.1           | 99.3 MB   | ########8  |  89% \n",
      "mkl-2020.1           | 99.3 MB   | ########8  |  89% \n",
      "mkl-2020.1           | 99.3 MB   | ########8  |  89% \n",
      "mkl-2020.1           | 99.3 MB   | ########8  |  89% \n",
      "mkl-2020.1           | 99.3 MB   | ########8  |  89% \n",
      "mkl-2020.1           | 99.3 MB   | ########8  |  89% \n",
      "mkl-2020.1           | 99.3 MB   | ########9  |  89% \n",
      "mkl-2020.1           | 99.3 MB   | ########9  |  89% \n",
      "mkl-2020.1           | 99.3 MB   | ########9  |  89% \n",
      "mkl-2020.1           | 99.3 MB   | ########9  |  89% \n",
      "mkl-2020.1           | 99.3 MB   | ########9  |  89% \n",
      "mkl-2020.1           | 99.3 MB   | ########9  |  89% \n",
      "mkl-2020.1           | 99.3 MB   | ########9  |  89% \n",
      "mkl-2020.1           | 99.3 MB   | ########9  |  89% \n",
      "mkl-2020.1           | 99.3 MB   | ########9  |  89% \n",
      "mkl-2020.1           | 99.3 MB   | ########9  |  90% \n",
      "mkl-2020.1           | 99.3 MB   | ########9  |  90% \n",
      "mkl-2020.1           | 99.3 MB   | ########9  |  90% \n",
      "mkl-2020.1           | 99.3 MB   | ########9  |  90% \n",
      "mkl-2020.1           | 99.3 MB   | ########9  |  90% \n",
      "mkl-2020.1           | 99.3 MB   | ########9  |  90% \n",
      "mkl-2020.1           | 99.3 MB   | ########9  |  90% \n",
      "mkl-2020.1           | 99.3 MB   | ########9  |  90% \n",
      "mkl-2020.1           | 99.3 MB   | #########  |  90% \n",
      "mkl-2020.1           | 99.3 MB   | #########  |  90% \n",
      "mkl-2020.1           | 99.3 MB   | #########  |  90% \n",
      "mkl-2020.1           | 99.3 MB   | #########  |  90% \n",
      "mkl-2020.1           | 99.3 MB   | #########  |  90% \n",
      "mkl-2020.1           | 99.3 MB   | #########  |  90% \n",
      "mkl-2020.1           | 99.3 MB   | #########  |  90% \n",
      "mkl-2020.1           | 99.3 MB   | #########  |  91% \n",
      "mkl-2020.1           | 99.3 MB   | #########  |  91% \n",
      "mkl-2020.1           | 99.3 MB   | #########  |  91% \n",
      "mkl-2020.1           | 99.3 MB   | #########  |  91% \n",
      "mkl-2020.1           | 99.3 MB   | #########  |  91% \n",
      "mkl-2020.1           | 99.3 MB   | #########  |  91% \n",
      "mkl-2020.1           | 99.3 MB   | #########  |  91% \n",
      "mkl-2020.1           | 99.3 MB   | #########  |  91% \n",
      "mkl-2020.1           | 99.3 MB   | #########1 |  91% \n",
      "mkl-2020.1           | 99.3 MB   | #########1 |  91% \n",
      "mkl-2020.1           | 99.3 MB   | #########1 |  91% \n",
      "mkl-2020.1           | 99.3 MB   | #########1 |  91% \n",
      "mkl-2020.1           | 99.3 MB   | #########1 |  91% \n",
      "mkl-2020.1           | 99.3 MB   | #########1 |  91% \n",
      "mkl-2020.1           | 99.3 MB   | #########1 |  91% \n",
      "mkl-2020.1           | 99.3 MB   | #########1 |  91% \n",
      "mkl-2020.1           | 99.3 MB   | #########1 |  92% \n",
      "mkl-2020.1           | 99.3 MB   | #########1 |  92% \n",
      "mkl-2020.1           | 99.3 MB   | #########1 |  92% \n",
      "mkl-2020.1           | 99.3 MB   | #########1 |  92% \n",
      "mkl-2020.1           | 99.3 MB   | #########1 |  92% \n",
      "mkl-2020.1           | 99.3 MB   | #########1 |  92% \n",
      "mkl-2020.1           | 99.3 MB   | #########1 |  92% \n",
      "mkl-2020.1           | 99.3 MB   | #########1 |  92% \n",
      "mkl-2020.1           | 99.3 MB   | #########1 |  92% \n",
      "mkl-2020.1           | 99.3 MB   | #########1 |  92% \n",
      "mkl-2020.1           | 99.3 MB   | #########2 |  92% \n",
      "mkl-2020.1           | 99.3 MB   | #########2 |  92% \n",
      "mkl-2020.1           | 99.3 MB   | #########2 |  92% \n",
      "mkl-2020.1           | 99.3 MB   | #########2 |  92% \n",
      "mkl-2020.1           | 99.3 MB   | #########2 |  92% \n",
      "mkl-2020.1           | 99.3 MB   | #########2 |  92% \n",
      "mkl-2020.1           | 99.3 MB   | #########2 |  92% \n",
      "mkl-2020.1           | 99.3 MB   | #########2 |  92% \n",
      "mkl-2020.1           | 99.3 MB   | #########2 |  92% \n",
      "mkl-2020.1           | 99.3 MB   | #########2 |  93% \n",
      "mkl-2020.1           | 99.3 MB   | #########2 |  93% \n",
      "mkl-2020.1           | 99.3 MB   | #########2 |  93% \n",
      "mkl-2020.1           | 99.3 MB   | #########2 |  93% \n",
      "mkl-2020.1           | 99.3 MB   | #########2 |  93% \n",
      "mkl-2020.1           | 99.3 MB   | #########2 |  93% \n",
      "mkl-2020.1           | 99.3 MB   | #########2 |  93% \n",
      "mkl-2020.1           | 99.3 MB   | #########3 |  93% \n",
      "mkl-2020.1           | 99.3 MB   | #########3 |  93% \n",
      "mkl-2020.1           | 99.3 MB   | #########3 |  93% \n",
      "mkl-2020.1           | 99.3 MB   | #########3 |  93% \n",
      "mkl-2020.1           | 99.3 MB   | #########3 |  93% \n",
      "mkl-2020.1           | 99.3 MB   | #########3 |  93% \n",
      "mkl-2020.1           | 99.3 MB   | #########3 |  93% \n",
      "mkl-2020.1           | 99.3 MB   | #########3 |  93% \n",
      "mkl-2020.1           | 99.3 MB   | #########3 |  94% \n",
      "mkl-2020.1           | 99.3 MB   | #########3 |  94% \n",
      "mkl-2020.1           | 99.3 MB   | #########3 |  94% \n",
      "mkl-2020.1           | 99.3 MB   | #########3 |  94% \n",
      "mkl-2020.1           | 99.3 MB   | #########3 |  94% \n",
      "mkl-2020.1           | 99.3 MB   | #########3 |  94% \n",
      "mkl-2020.1           | 99.3 MB   | #########4 |  94% \n",
      "mkl-2020.1           | 99.3 MB   | #########4 |  94% \n",
      "mkl-2020.1           | 99.3 MB   | #########4 |  94% \n",
      "mkl-2020.1           | 99.3 MB   | #########4 |  94% \n",
      "mkl-2020.1           | 99.3 MB   | #########4 |  95% \n",
      "mkl-2020.1           | 99.3 MB   | #########4 |  95% \n",
      "mkl-2020.1           | 99.3 MB   | #########4 |  95% \n",
      "mkl-2020.1           | 99.3 MB   | #########4 |  95% \n",
      "mkl-2020.1           | 99.3 MB   | #########4 |  95% \n",
      "mkl-2020.1           | 99.3 MB   | #########4 |  95% \n"
     ]
    },
    {
     "name": "stdout",
     "output_type": "stream",
     "text": [
      "mkl-2020.1           | 99.3 MB   | #########4 |  95% \n",
      "mkl-2020.1           | 99.3 MB   | #########4 |  95% \n",
      "mkl-2020.1           | 99.3 MB   | #########5 |  95% \n",
      "mkl-2020.1           | 99.3 MB   | #########5 |  95% \n",
      "mkl-2020.1           | 99.3 MB   | #########5 |  95% \n",
      "mkl-2020.1           | 99.3 MB   | #########5 |  95% \n",
      "mkl-2020.1           | 99.3 MB   | #########5 |  95% \n",
      "mkl-2020.1           | 99.3 MB   | #########5 |  95% \n",
      "mkl-2020.1           | 99.3 MB   | #########5 |  95% \n",
      "mkl-2020.1           | 99.3 MB   | #########5 |  95% \n",
      "mkl-2020.1           | 99.3 MB   | #########5 |  95% \n",
      "mkl-2020.1           | 99.3 MB   | #########5 |  96% \n",
      "mkl-2020.1           | 99.3 MB   | #########5 |  96% \n",
      "mkl-2020.1           | 99.3 MB   | #########5 |  96% \n",
      "mkl-2020.1           | 99.3 MB   | #########5 |  96% \n",
      "mkl-2020.1           | 99.3 MB   | #########5 |  96% \n",
      "mkl-2020.1           | 99.3 MB   | #########5 |  96% \n",
      "mkl-2020.1           | 99.3 MB   | #########5 |  96% \n",
      "mkl-2020.1           | 99.3 MB   | #########5 |  96% \n",
      "mkl-2020.1           | 99.3 MB   | #########5 |  96% \n",
      "mkl-2020.1           | 99.3 MB   | #########5 |  96% \n",
      "mkl-2020.1           | 99.3 MB   | #########5 |  96% \n",
      "mkl-2020.1           | 99.3 MB   | #########5 |  96% \n",
      "mkl-2020.1           | 99.3 MB   | #########5 |  96% \n",
      "mkl-2020.1           | 99.3 MB   | #########5 |  96% \n",
      "mkl-2020.1           | 99.3 MB   | #########6 |  96% \n",
      "mkl-2020.1           | 99.3 MB   | #########6 |  96% \n",
      "mkl-2020.1           | 99.3 MB   | #########6 |  96% \n",
      "mkl-2020.1           | 99.3 MB   | #########6 |  96% \n",
      "mkl-2020.1           | 99.3 MB   | #########6 |  96% \n",
      "mkl-2020.1           | 99.3 MB   | #########6 |  96% \n",
      "mkl-2020.1           | 99.3 MB   | #########6 |  96% \n",
      "mkl-2020.1           | 99.3 MB   | #########6 |  96% \n",
      "mkl-2020.1           | 99.3 MB   | #########6 |  96% \n",
      "mkl-2020.1           | 99.3 MB   | #########6 |  96% \n",
      "mkl-2020.1           | 99.3 MB   | #########6 |  96% \n",
      "mkl-2020.1           | 99.3 MB   | #########6 |  96% \n",
      "mkl-2020.1           | 99.3 MB   | #########6 |  97% \n",
      "mkl-2020.1           | 99.3 MB   | #########6 |  97% \n",
      "mkl-2020.1           | 99.3 MB   | #########6 |  97% \n",
      "mkl-2020.1           | 99.3 MB   | #########6 |  97% \n",
      "mkl-2020.1           | 99.3 MB   | #########6 |  97% \n",
      "mkl-2020.1           | 99.3 MB   | #########6 |  97% \n",
      "mkl-2020.1           | 99.3 MB   | #########6 |  97% \n",
      "mkl-2020.1           | 99.3 MB   | #########6 |  97% \n",
      "mkl-2020.1           | 99.3 MB   | #########6 |  97% \n",
      "mkl-2020.1           | 99.3 MB   | #########6 |  97% \n",
      "mkl-2020.1           | 99.3 MB   | #########7 |  97% \n",
      "mkl-2020.1           | 99.3 MB   | #########7 |  97% \n",
      "mkl-2020.1           | 99.3 MB   | #########7 |  97% \n",
      "mkl-2020.1           | 99.3 MB   | #########7 |  97% \n",
      "mkl-2020.1           | 99.3 MB   | #########7 |  97% \n",
      "mkl-2020.1           | 99.3 MB   | #########7 |  97% \n",
      "mkl-2020.1           | 99.3 MB   | #########7 |  97% \n",
      "mkl-2020.1           | 99.3 MB   | #########7 |  97% \n",
      "mkl-2020.1           | 99.3 MB   | #########7 |  97% \n",
      "mkl-2020.1           | 99.3 MB   | #########7 |  97% \n",
      "mkl-2020.1           | 99.3 MB   | #########7 |  97% \n",
      "mkl-2020.1           | 99.3 MB   | #########7 |  97% \n",
      "mkl-2020.1           | 99.3 MB   | #########7 |  98% \n",
      "mkl-2020.1           | 99.3 MB   | #########7 |  98% \n",
      "mkl-2020.1           | 99.3 MB   | #########7 |  98% \n",
      "mkl-2020.1           | 99.3 MB   | #########7 |  98% \n",
      "mkl-2020.1           | 99.3 MB   | #########7 |  98% \n",
      "mkl-2020.1           | 99.3 MB   | #########7 |  98% \n",
      "mkl-2020.1           | 99.3 MB   | #########7 |  98% \n",
      "mkl-2020.1           | 99.3 MB   | #########7 |  98% \n",
      "mkl-2020.1           | 99.3 MB   | #########7 |  98% \n",
      "mkl-2020.1           | 99.3 MB   | #########7 |  98% \n",
      "mkl-2020.1           | 99.3 MB   | #########7 |  98% \n",
      "mkl-2020.1           | 99.3 MB   | #########8 |  98% \n",
      "mkl-2020.1           | 99.3 MB   | #########8 |  98% \n",
      "mkl-2020.1           | 99.3 MB   | #########8 |  98% \n",
      "mkl-2020.1           | 99.3 MB   | #########8 |  98% \n",
      "mkl-2020.1           | 99.3 MB   | #########8 |  98% \n",
      "mkl-2020.1           | 99.3 MB   | #########8 |  98% \n",
      "mkl-2020.1           | 99.3 MB   | #########8 |  98% \n",
      "mkl-2020.1           | 99.3 MB   | #########8 |  98% \n",
      "mkl-2020.1           | 99.3 MB   | #########8 |  98% \n",
      "mkl-2020.1           | 99.3 MB   | #########8 |  99% \n",
      "mkl-2020.1           | 99.3 MB   | #########8 |  99% \n",
      "mkl-2020.1           | 99.3 MB   | #########8 |  99% \n",
      "mkl-2020.1           | 99.3 MB   | #########8 |  99% \n",
      "mkl-2020.1           | 99.3 MB   | #########8 |  99% \n",
      "mkl-2020.1           | 99.3 MB   | #########8 |  99% \n",
      "mkl-2020.1           | 99.3 MB   | #########8 |  99% \n",
      "mkl-2020.1           | 99.3 MB   | #########8 |  99% \n",
      "mkl-2020.1           | 99.3 MB   | #########9 |  99% \n",
      "mkl-2020.1           | 99.3 MB   | #########9 |  99% \n",
      "mkl-2020.1           | 99.3 MB   | #########9 |  99% \n",
      "mkl-2020.1           | 99.3 MB   | #########9 |  99% \n",
      "mkl-2020.1           | 99.3 MB   | #########9 |  99% \n",
      "mkl-2020.1           | 99.3 MB   | #########9 |  99% \n",
      "mkl-2020.1           | 99.3 MB   | #########9 |  99% \n",
      "mkl-2020.1           | 99.3 MB   | #########9 |  99% \n",
      "mkl-2020.1           | 99.3 MB   | #########9 | 100% \n",
      "mkl-2020.1           | 99.3 MB   | #########9 | 100% \n",
      "mkl-2020.1           | 99.3 MB   | #########9 | 100% \n",
      "mkl-2020.1           | 99.3 MB   | #########9 | 100% \n",
      "mkl-2020.1           | 99.3 MB   | #########9 | 100% \n",
      "mkl-2020.1           | 99.3 MB   | #########9 | 100% \n",
      "mkl-2020.1           | 99.3 MB   | #########9 | 100% \n",
      "mkl-2020.1           | 99.3 MB   | ########## | 100% \n",
      "\n",
      "python-graphviz-0.14 | 25 KB     |            |   0% \n",
      "python-graphviz-0.14 | 25 KB     | ######4    |  64% \n",
      "python-graphviz-0.14 | 25 KB     | ########## | 100% \n",
      "\n",
      "ca-certificates-2020 | 125 KB    |            |   0% \n",
      "ca-certificates-2020 | 125 KB    | #2         |  13% \n",
      "ca-certificates-2020 | 125 KB    | ######3    |  64% \n",
      "ca-certificates-2020 | 125 KB    | ########## | 100% \n",
      "\n",
      "certifi-2020.6.20    | 156 KB    |            |   0% \n",
      "certifi-2020.6.20    | 156 KB    | #          |  10% \n",
      "certifi-2020.6.20    | 156 KB    | ######1    |  62% \n",
      "certifi-2020.6.20    | 156 KB    | ########## | 100% \n",
      "\n",
      "mkl_random-1.1.1     | 233 KB    |            |   0% \n",
      "mkl_random-1.1.1     | 233 KB    | 6          |   7% \n",
      "mkl_random-1.1.1     | 233 KB    | ####1      |  41% \n",
      "mkl_random-1.1.1     | 233 KB    | #######5   |  75% \n",
      "mkl_random-1.1.1     | 233 KB    | ########## | 100% \n",
      "Preparing transaction: ...working... done\n",
      "Verifying transaction: ...working... done\n",
      "Executing transaction: ...working... done\n"
     ]
    }
   ],
   "source": [
    "# import decision trees scikit-learn libraries\n",
    "%matplotlib inline\n",
    "from sklearn import tree\n",
    "from sklearn.metrics import accuracy_score, confusion_matrix\n",
    "\n",
    "import matplotlib.pyplot as plt\n",
    "\n",
    "!conda install python-graphviz --yes\n",
    "import graphviz\n",
    "\n",
    "from sklearn.tree import export_graphviz\n",
    "\n",
    "import itertools\n",
    "\n",
    "print(\"DONE!!!!!!!!!!!!!\")"
   ]
  },
  {
   "cell_type": "markdown",
   "metadata": {
    "button": false,
    "new_sheet": false,
    "run_control": {
     "read_only": false
    }
   },
   "source": [
    "Check the data again!"
   ]
  },
  {
   "cell_type": "code",
   "execution_count": null,
   "metadata": {
    "button": false,
    "new_sheet": false,
    "run_control": {
     "read_only": false
    }
   },
   "outputs": [],
   "source": [
    "recipes.head()"
   ]
  },
  {
   "cell_type": "markdown",
   "metadata": {
    "button": false,
    "new_sheet": false,
    "run_control": {
     "read_only": false
    }
   },
   "source": [
    "## [bamboo_tree] Only Asian and Indian Cuisines\n",
    "\n",
    "Here, we are creating a decision tree for the recipes for just some of the Asian (Korean, Japanese, Chinese, Thai) and Indian cuisines. The reason for this is because the decision tree does not run well when the data is biased towards one cuisine, in this case American cuisines. One option is to exclude the American cuisines from our analysis or just build decision trees for different subsets of the data. Let's go with the latter solution."
   ]
  },
  {
   "cell_type": "markdown",
   "metadata": {
    "button": false,
    "new_sheet": false,
    "run_control": {
     "read_only": false
    }
   },
   "source": [
    "Let's build our decision tree using the data pertaining to the Asian and Indian cuisines and name our decision tree *bamboo_tree*."
   ]
  },
  {
   "cell_type": "code",
   "execution_count": null,
   "metadata": {
    "button": false,
    "new_sheet": false,
    "run_control": {
     "read_only": false
    }
   },
   "outputs": [],
   "source": [
    "# select subset of cuisines\n",
    "asian_indian_recipes = recipes[recipes.cuisine.isin([\"korean\", \"japanese\", \"chinese\", \"thai\", \"indian\"])]\n",
    "cuisines = asian_indian_recipes[\"cuisine\"]\n",
    "ingredients = asian_indian_recipes.iloc[:,1:]\n",
    "\n",
    "bamboo_tree = tree.DecisionTreeClassifier(max_depth=3)\n",
    "bamboo_tree.fit(ingredients, cuisines)\n",
    "\n",
    "print(\"Decision tree model saved to bamboo_tree!\")"
   ]
  },
  {
   "cell_type": "markdown",
   "metadata": {
    "button": false,
    "new_sheet": false,
    "run_control": {
     "read_only": false
    }
   },
   "source": [
    "Let's plot the decision tree and examine how it looks like."
   ]
  },
  {
   "cell_type": "code",
   "execution_count": null,
   "metadata": {
    "button": false,
    "new_sheet": false,
    "run_control": {
     "read_only": false
    }
   },
   "outputs": [],
   "source": [
    "export_graphviz(bamboo_tree,\n",
    "                feature_names=list(ingredients.columns.values),\n",
    "                out_file=\"bamboo_tree.dot\",\n",
    "                class_names=np.unique(cuisines),\n",
    "                filled=True,\n",
    "                node_ids=True,\n",
    "                special_characters=True,\n",
    "                impurity=False,\n",
    "                label=\"all\",\n",
    "                leaves_parallel=False)\n",
    "\n",
    "with open(\"bamboo_tree.dot\") as bamboo_tree_image:\n",
    "    bamboo_tree_graph = bamboo_tree_image.read()\n",
    "graphviz.Source(bamboo_tree_graph)"
   ]
  },
  {
   "cell_type": "markdown",
   "metadata": {
    "button": false,
    "new_sheet": false,
    "run_control": {
     "read_only": false
    }
   },
   "source": [
    "The decision tree learned:\n",
    "* If a recipe contains *cumin* and *fish* and **no** *yoghurt*, then it is most likely a **Thai** recipe.\n",
    "* If a recipe contains *cumin* but **no** *fish* and **no** *soy_sauce*, then it is most likely an **Indian** recipe."
   ]
  },
  {
   "cell_type": "markdown",
   "metadata": {
    "button": false,
    "new_sheet": false,
    "run_control": {
     "read_only": false
    }
   },
   "source": [
    "You can analyze the remaining branches of the tree to come up with similar rules for determining the cuisine of different recipes. "
   ]
  },
  {
   "cell_type": "markdown",
   "metadata": {
    "button": false,
    "new_sheet": false,
    "run_control": {
     "read_only": false
    }
   },
   "source": [
    "Feel free to select another subset of cuisines and build a decision tree of their recipes. You can select some European cuisines and build a decision tree to explore the ingredients that differentiate them."
   ]
  },
  {
   "cell_type": "markdown",
   "metadata": {
    "button": false,
    "new_sheet": false,
    "run_control": {
     "read_only": false
    }
   },
   "source": [
    "# Model Evaluation <a id=\"4\"></a>"
   ]
  },
  {
   "cell_type": "markdown",
   "metadata": {
    "button": false,
    "new_sheet": false,
    "run_control": {
     "read_only": false
    }
   },
   "source": [
    "<img src=\"https://s3-api.us-geo.objectstorage.softlayer.net/cf-courses-data/CognitiveClass/DS0103EN/labs/images/lab4_fig5_flowchart_evaluation.png\" width=500>"
   ]
  },
  {
   "cell_type": "markdown",
   "metadata": {
    "button": false,
    "new_sheet": false,
    "run_control": {
     "read_only": false
    }
   },
   "source": [
    "To evaluate our model of Asian and Indian cuisines, we will split our dataset into a training set and a test set. We will build the decision tree using the training set. Then, we will test the model on the test set and compare the cuisines that the model predicts to the actual cuisines. "
   ]
  },
  {
   "cell_type": "markdown",
   "metadata": {
    "button": false,
    "new_sheet": false,
    "run_control": {
     "read_only": false
    }
   },
   "source": [
    "Let's first create a new dataframe using only the data pertaining to the Asian and the Indian cuisines, and let's call the new dataframe **bamboo**."
   ]
  },
  {
   "cell_type": "code",
   "execution_count": null,
   "metadata": {
    "button": false,
    "new_sheet": false,
    "run_control": {
     "read_only": false
    }
   },
   "outputs": [],
   "source": [
    "bamboo = recipes[recipes.cuisine.isin([\"korean\", \"japanese\", \"chinese\", \"thai\", \"indian\"])]"
   ]
  },
  {
   "cell_type": "markdown",
   "metadata": {
    "button": false,
    "new_sheet": false,
    "run_control": {
     "read_only": false
    }
   },
   "source": [
    "Let's see how many recipes exist for each cuisine."
   ]
  },
  {
   "cell_type": "code",
   "execution_count": null,
   "metadata": {
    "button": false,
    "new_sheet": false,
    "run_control": {
     "read_only": false
    }
   },
   "outputs": [],
   "source": [
    "bamboo[\"cuisine\"].value_counts()"
   ]
  },
  {
   "cell_type": "markdown",
   "metadata": {
    "button": false,
    "new_sheet": false,
    "run_control": {
     "read_only": false
    }
   },
   "source": [
    "Let's remove 30 recipes from each cuisine to use as the test set, and let's name this test set **bamboo_test**."
   ]
  },
  {
   "cell_type": "code",
   "execution_count": null,
   "metadata": {
    "button": false,
    "new_sheet": false,
    "run_control": {
     "read_only": false
    }
   },
   "outputs": [],
   "source": [
    "# set sample size\n",
    "sample_n = 30"
   ]
  },
  {
   "cell_type": "markdown",
   "metadata": {
    "button": false,
    "new_sheet": false,
    "run_control": {
     "read_only": false
    }
   },
   "source": [
    "Create a dataframe containing 30 recipes from each cuisine, selected randomly."
   ]
  },
  {
   "cell_type": "code",
   "execution_count": null,
   "metadata": {
    "button": false,
    "new_sheet": false,
    "run_control": {
     "read_only": false
    }
   },
   "outputs": [],
   "source": [
    "# take 30 recipes from each cuisine\n",
    "random.seed(1234) # set random seed\n",
    "bamboo_test = bamboo.groupby(\"cuisine\", group_keys=False).apply(lambda x: x.sample(sample_n))\n",
    "\n",
    "bamboo_test_ingredients = bamboo_test.iloc[:,1:] # ingredients\n",
    "bamboo_test_cuisines = bamboo_test[\"cuisine\"] # corresponding cuisines or labels"
   ]
  },
  {
   "cell_type": "markdown",
   "metadata": {
    "button": false,
    "new_sheet": false,
    "run_control": {
     "read_only": false
    }
   },
   "source": [
    "Check that there are 30 recipes for each cuisine."
   ]
  },
  {
   "cell_type": "code",
   "execution_count": null,
   "metadata": {
    "button": false,
    "new_sheet": false,
    "run_control": {
     "read_only": false
    }
   },
   "outputs": [],
   "source": [
    "# check that we have 30 recipes from each cuisine\n",
    "bamboo_test[\"cuisine\"].value_counts()"
   ]
  },
  {
   "cell_type": "markdown",
   "metadata": {
    "button": false,
    "new_sheet": false,
    "run_control": {
     "read_only": false
    }
   },
   "source": [
    "Next, let's create the training set by removing the test set from the **bamboo** dataset, and let's call the training set **bamboo_train**."
   ]
  },
  {
   "cell_type": "code",
   "execution_count": null,
   "metadata": {
    "button": false,
    "new_sheet": false,
    "run_control": {
     "read_only": false
    }
   },
   "outputs": [],
   "source": [
    "bamboo_test_index = bamboo.index.isin(bamboo_test.index)\n",
    "bamboo_train = bamboo[~bamboo_test_index]\n",
    "\n",
    "bamboo_train_ingredients = bamboo_train.iloc[:,1:] # ingredients\n",
    "bamboo_train_cuisines = bamboo_train[\"cuisine\"] # corresponding cuisines or labels"
   ]
  },
  {
   "cell_type": "markdown",
   "metadata": {
    "button": false,
    "new_sheet": false,
    "run_control": {
     "read_only": false
    }
   },
   "source": [
    "Check that there are 30 _fewer_ recipes now for each cuisine."
   ]
  },
  {
   "cell_type": "code",
   "execution_count": null,
   "metadata": {
    "button": false,
    "new_sheet": false,
    "run_control": {
     "read_only": false
    }
   },
   "outputs": [],
   "source": [
    "bamboo_train[\"cuisine\"].value_counts()"
   ]
  },
  {
   "cell_type": "markdown",
   "metadata": {
    "button": false,
    "new_sheet": false,
    "run_control": {
     "read_only": false
    }
   },
   "source": [
    "Let's build the decision tree using the training set, **bamboo_train**, and name the generated tree **bamboo_train_tree** for prediction."
   ]
  },
  {
   "cell_type": "code",
   "execution_count": null,
   "metadata": {
    "button": false,
    "new_sheet": false,
    "run_control": {
     "read_only": false
    }
   },
   "outputs": [],
   "source": [
    "bamboo_train_tree = tree.DecisionTreeClassifier(max_depth=15)\n",
    "bamboo_train_tree.fit(bamboo_train_ingredients, bamboo_train_cuisines)\n",
    "\n",
    "print(\"Decision tree model saved to bamboo_train_tree!\")"
   ]
  },
  {
   "cell_type": "markdown",
   "metadata": {
    "button": false,
    "new_sheet": false,
    "run_control": {
     "read_only": false
    }
   },
   "source": [
    "Let's plot the decision tree and explore it."
   ]
  },
  {
   "cell_type": "code",
   "execution_count": null,
   "metadata": {
    "button": false,
    "new_sheet": false,
    "run_control": {
     "read_only": false
    },
    "scrolled": false
   },
   "outputs": [],
   "source": [
    "export_graphviz(bamboo_train_tree,\n",
    "                feature_names=list(bamboo_train_ingredients.columns.values),\n",
    "                out_file=\"bamboo_train_tree.dot\",\n",
    "                class_names=np.unique(bamboo_train_cuisines),\n",
    "                filled=True,\n",
    "                node_ids=True,\n",
    "                special_characters=True,\n",
    "                impurity=False,\n",
    "                label=\"all\",\n",
    "                leaves_parallel=False)\n",
    "\n",
    "with open(\"bamboo_train_tree.dot\") as bamboo_train_tree_image:\n",
    "    bamboo_train_tree_graph = bamboo_train_tree_image.read()\n",
    "graphviz.Source(bamboo_train_tree_graph)"
   ]
  },
  {
   "cell_type": "markdown",
   "metadata": {
    "button": false,
    "new_sheet": false,
    "run_control": {
     "read_only": false
    }
   },
   "source": [
    "Now that we defined our tree to be deeper, more decision nodes are generated."
   ]
  },
  {
   "cell_type": "markdown",
   "metadata": {
    "button": false,
    "new_sheet": false,
    "run_control": {
     "read_only": false
    }
   },
   "source": [
    "#### Now let's test our model on the test data."
   ]
  },
  {
   "cell_type": "code",
   "execution_count": null,
   "metadata": {
    "button": false,
    "new_sheet": false,
    "run_control": {
     "read_only": false
    }
   },
   "outputs": [],
   "source": [
    "bamboo_pred_cuisines = bamboo_train_tree.predict(bamboo_test_ingredients)"
   ]
  },
  {
   "cell_type": "markdown",
   "metadata": {
    "button": false,
    "new_sheet": false,
    "run_control": {
     "read_only": false
    }
   },
   "source": [
    "To quantify how well the decision tree is able to determine the cuisine of each recipe correctly, we will create a confusion matrix which presents a nice summary on how many recipes from each cuisine are correctly classified. It also sheds some light on what cuisines are being confused with what other cuisines."
   ]
  },
  {
   "cell_type": "markdown",
   "metadata": {
    "button": false,
    "new_sheet": false,
    "run_control": {
     "read_only": false
    }
   },
   "source": [
    "So let's go ahead and create the confusion matrix for how well the decision tree is able to correctly classify the recipes in **bamboo_test**."
   ]
  },
  {
   "cell_type": "code",
   "execution_count": null,
   "metadata": {
    "button": false,
    "new_sheet": false,
    "run_control": {
     "read_only": false
    }
   },
   "outputs": [],
   "source": [
    "test_cuisines = np.unique(bamboo_test_cuisines)\n",
    "bamboo_confusion_matrix = confusion_matrix(bamboo_test_cuisines, bamboo_pred_cuisines, test_cuisines)\n",
    "title = 'Bamboo Confusion Matrix'\n",
    "cmap = plt.cm.Blues\n",
    "\n",
    "plt.figure(figsize=(8, 6))\n",
    "bamboo_confusion_matrix = (\n",
    "    bamboo_confusion_matrix.astype('float') / bamboo_confusion_matrix.sum(axis=1)[:, np.newaxis]\n",
    "    ) * 100\n",
    "\n",
    "plt.imshow(bamboo_confusion_matrix, interpolation='nearest', cmap=cmap)\n",
    "plt.title(title)\n",
    "plt.colorbar()\n",
    "tick_marks = np.arange(len(test_cuisines))\n",
    "plt.xticks(tick_marks, test_cuisines)\n",
    "plt.yticks(tick_marks, test_cuisines)\n",
    "\n",
    "fmt = '.2f'\n",
    "thresh = bamboo_confusion_matrix.max() / 2.\n",
    "for i, j in itertools.product(range(bamboo_confusion_matrix.shape[0]), range(bamboo_confusion_matrix.shape[1])):\n",
    "    plt.text(j, i, format(bamboo_confusion_matrix[i, j], fmt),\n",
    "             horizontalalignment=\"center\",\n",
    "             color=\"white\" if bamboo_confusion_matrix[i, j] > thresh else \"black\")\n",
    "\n",
    "plt.tight_layout()\n",
    "plt.ylabel('True label')\n",
    "plt.xlabel('Predicted label')\n",
    "\n",
    "plt.show()"
   ]
  },
  {
   "cell_type": "markdown",
   "metadata": {
    "button": false,
    "new_sheet": false,
    "run_control": {
     "read_only": false
    }
   },
   "source": [
    "After running the above code, you should get a confusion matrix similar to the following:"
   ]
  },
  {
   "cell_type": "markdown",
   "metadata": {
    "button": false,
    "new_sheet": false,
    "run_control": {
     "read_only": false
    }
   },
   "source": [
    "<img src=\"https://ibm.box.com/shared/static/69f5m7txv2u6g47867qe0eypnfylrj4w.png\" width=500>"
   ]
  },
  {
   "cell_type": "markdown",
   "metadata": {
    "button": false,
    "new_sheet": false,
    "run_control": {
     "read_only": false
    }
   },
   "source": [
    "The rows represent the actual cuisines from the dataset and the columns represent the predicted ones. Each row should sum to 100%. According to this confusion matrix, we make the following observations:\n",
    "\n",
    "* Using the first row in the confusion matrix, 60% of the **Chinese** recipes in **bamboo_test** were correctly classified by our decision tree whereas 37% of the **Chinese** recipes were misclassified as **Korean** and 3% were misclassified as **Indian**.\n",
    "\n",
    "* Using the Indian row, 77% of the **Indian** recipes in **bamboo_test** were correctly classified by our decision tree and 3% of the **Indian** recipes were misclassified as **Chinese** and 13% were misclassified as **Korean** and 7% were misclassified as **Thai**."
   ]
  },
  {
   "cell_type": "markdown",
   "metadata": {
    "button": false,
    "new_sheet": false,
    "run_control": {
     "read_only": false
    }
   },
   "source": [
    "**Please note** that because decision trees are created using random sampling of the datapoints in the training set, then you may not get the same results every time you create the decision tree even using the same training set. The performance should still be comparable though! So don't worry if you get slightly different numbers in your confusion matrix than the ones shown above."
   ]
  },
  {
   "cell_type": "markdown",
   "metadata": {
    "button": false,
    "new_sheet": false,
    "run_control": {
     "read_only": false
    }
   },
   "source": [
    "Using the reference confusion matrix, how many **Japanese** recipes were correctly classified by our decision tree?"
   ]
  },
  {
   "cell_type": "raw",
   "metadata": {
    "button": false,
    "new_sheet": false,
    "run_control": {
     "read_only": false
    }
   },
   "source": [
    "Your Answer:\n",
    "\n"
   ]
  },
  {
   "cell_type": "markdown",
   "metadata": {
    "button": false,
    "new_sheet": false,
    "run_control": {
     "read_only": false
    }
   },
   "source": [
    "Double-click __here__ for the solution.\n",
    "<!-- The correct answer is:\n",
    "36.67%.\n",
    "-->"
   ]
  },
  {
   "cell_type": "markdown",
   "metadata": {
    "button": false,
    "new_sheet": false,
    "run_control": {
     "read_only": false
    }
   },
   "source": [
    "Also using the reference confusion matrix, how many **Korean** recipes were misclassified as **Japanese**?"
   ]
  },
  {
   "cell_type": "raw",
   "metadata": {
    "button": false,
    "new_sheet": false,
    "run_control": {
     "read_only": false
    }
   },
   "source": [
    "Your Answer:\n",
    "\n"
   ]
  },
  {
   "cell_type": "markdown",
   "metadata": {
    "button": false,
    "new_sheet": false,
    "run_control": {
     "read_only": false
    }
   },
   "source": [
    "Double-click __here__ for the solution.\n",
    "<!-- The correct answer is:\n",
    "3.33%.\n",
    "-->"
   ]
  },
  {
   "cell_type": "markdown",
   "metadata": {
    "button": false,
    "new_sheet": false,
    "run_control": {
     "read_only": false
    }
   },
   "source": [
    "What cuisine has the least number of recipes correctly classified by the decision tree using the reference confusion matrix?"
   ]
  },
  {
   "cell_type": "raw",
   "metadata": {
    "button": false,
    "new_sheet": false,
    "run_control": {
     "read_only": false
    }
   },
   "source": [
    "Your Answer:\n",
    "\n"
   ]
  },
  {
   "cell_type": "markdown",
   "metadata": {
    "button": false,
    "new_sheet": false,
    "run_control": {
     "read_only": false
    }
   },
   "source": [
    "Double-click __here__ for the solution.\n",
    "<!-- The correct answer is:\n",
    "Japanese cuisine, with 36.67% only.\n",
    "-->"
   ]
  },
  {
   "cell_type": "markdown",
   "metadata": {
    "button": false,
    "new_sheet": false,
    "run_control": {
     "read_only": false
    }
   },
   "source": [
    "<br>\n",
    "<hr>"
   ]
  },
  {
   "cell_type": "markdown",
   "metadata": {
    "button": false,
    "new_sheet": false,
    "run_control": {
     "read_only": false
    }
   },
   "source": [
    "### Thank you for completing this lab!\n",
    "\n",
    "This notebook was created by [Alex Aklson](https://www.linkedin.com/in/aklson/). We hope you found this lab session interesting. Feel free to contact us if you have any questions!"
   ]
  },
  {
   "cell_type": "markdown",
   "metadata": {
    "button": false,
    "new_sheet": false,
    "run_control": {
     "read_only": false
    }
   },
   "source": [
    "This notebook is part of a course on **Coursera** called *Data Science Methodology*. If you accessed this notebook outside the course, you can take this course, online by clicking [here](https://cocl.us/DS0103EN_Coursera_LAB4)."
   ]
  },
  {
   "cell_type": "markdown",
   "metadata": {
    "button": false,
    "new_sheet": false,
    "run_control": {
     "read_only": false
    }
   },
   "source": [
    "<hr>\n",
    "\n",
    "Copyright &copy; 2019 [Cognitive Class](https://cognitiveclass.ai/?utm_source=bducopyrightlink&utm_medium=dswb&utm_campaign=bdu). This notebook and its source code are released under the terms of the [MIT License](https://bigdatauniversity.com/mit-license/)."
   ]
  }
 ],
 "metadata": {
  "kernelspec": {
   "display_name": "Python 3",
   "language": "python",
   "name": "python3"
  },
  "language_info": {
   "codemirror_mode": {
    "name": "ipython",
    "version": 3
   },
   "file_extension": ".py",
   "mimetype": "text/x-python",
   "name": "python",
   "nbconvert_exporter": "python",
   "pygments_lexer": "ipython3",
   "version": "3.7.4"
  },
  "widgets": {
   "state": {},
   "version": "1.1.2"
  }
 },
 "nbformat": 4,
 "nbformat_minor": 2
}
